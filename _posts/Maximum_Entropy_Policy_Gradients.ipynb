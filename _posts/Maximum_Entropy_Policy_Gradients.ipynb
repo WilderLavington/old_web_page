{
 "cells": [
  {
   "cell_type": "markdown",
   "metadata": {},
   "source": [
    "# Maximum Entropy Policy Gradients "
   ]
  },
  {
   "cell_type": "markdown",
   "metadata": {},
   "source": [
    "For my first post, I will set up a simple implimentation of maximum entropy policy gradients applied to simple \n",
    "grid world problem. Max entropy policy gradients is implemented in a similar manner to vanilla policy gradients,\n",
    "but includes an added entropy term within the advantage term. For more information see \"reinforcement learning and control as probabalistic inference\" to see more. "
   ]
  },
  {
   "cell_type": "code",
   "execution_count": 21,
   "metadata": {},
   "outputs": [],
   "source": [
    "import torch\n",
    "from copy import deepcopy\n",
    "import warnings\n",
    "warnings.filterwarnings('ignore')"
   ]
  },
  {
   "cell_type": "markdown",
   "metadata": {},
   "source": [
    "## First we want to make  a make a policy\n",
    "After including our imports we will need to create a policy class to sample new actions, and to compute the \n",
    "log probabilities of each of the actions under our current model. I our case, since we will be working with a \n",
    "grid world, we will allow 5 actions for up, down, left, right, and stationary. In order to pick one of these \n",
    "actions, we will sample from a discrete distribution parameterized by a linear function based on the size of the \n",
    "input and the number of actions, and then pass the outputs through a softmax layer. In order to calculate the \n",
    "probability of an action, we simply look up the index of the action output by the softmax layer. We also add a little \n",
    "bit of noise to the probability to ensure its never exactly zero."
   ]
  },
  {
   "cell_type": "code",
   "execution_count": 22,
   "metadata": {},
   "outputs": [],
   "source": [
    "class POLICY(torch.nn.Module):\n",
    "    \"\"\"\n",
    "    POLICY CLASS: CONTAINS ALL USABLE FUNCTIONAL FORMS FOR THE AGENTS POLICY, ALONG WITH\n",
    "    THE CORROSPONDING HELPER FUNCTIONS\n",
    "    \"\"\"\n",
    "    def __init__(self, state_size, action_size):\n",
    "        super(POLICY, self).__init__()\n",
    "        # initializations\n",
    "        self.state_size = state_size\n",
    "        self.action_size = action_size\n",
    "        self.linear = torch.nn.Linear(state_size, action_size)\n",
    "        self.softmax = torch.nn.Softmax()\n",
    "        self.discrete = lambda prob: Categorical(torch.tensor(prob))\n",
    "\n",
    "    def sample_action(self, state, randomness):\n",
    "        # Here the forward pass is simply a linear function\n",
    "        probabilities = self.linear(torch.FloatTensor(state))\n",
    "        probabilities = self.softmax(probabilities)\n",
    "        action = torch.distributions.Categorical(probabilities)\n",
    "        \n",
    "        # Now check whether we will pick a random action\n",
    "        if torch.distributions.uniform.Uniform(0,1).sample() < randomness:\n",
    "            return torch.randint(0, 5, (1,))\n",
    "        else:\n",
    "            return action.sample()\n",
    "\n",
    "    def logprob_action(self, state, action):\n",
    "        probabilities = self.linear(state)\n",
    "        probabilities = self.softmax(probabilities)\n",
    "        log_prob = min(0, torch.log(probabilities[action.long()]+0.0001))\n",
    "        return log_prob\n"
   ]
  },
  {
   "cell_type": "markdown",
   "metadata": {},
   "source": [
    "## Next we need to make the grid world the agent will sample from\n",
    "next we need to actually make the simulator thatour agent will be using. The only two functions we will need for\n",
    "this, one to step the agent, and one to create a full simulations. There are five moves that are possible, and we \n",
    "include the abiliity to average over several trajectories."
   ]
  },
  {
   "cell_type": "code",
   "execution_count": 23,
   "metadata": {},
   "outputs": [],
   "source": [
    "class GRID_WORLD():\n",
    "    \"\"\"\n",
    "    GRID WORLD CLASS: HELPER CLASS TO INSTANTIATE A SMALL MDP PROBLEM TO TEST POLICY GRADIENT\n",
    "    METHODS ON TO ENSURE CORRECTNESS, ALSO ALOWS FOR FOR TESTING OF NEW TYPES OF ENVIROMENTS\n",
    "    WITH DIFFERENT STATESPACE DISTRIBUTIONS ECT.\n",
    "    \"\"\"\n",
    "\n",
    "    def __init__(self, pre_determined_grid, start_state):\n",
    "        super(GRID_WORLD, self).__init__()\n",
    "        self.grid = pre_determined_grid\n",
    "        self.start_state = start_state\n",
    "        self.grid_dim = [len(pre_determined_grid),len(pre_determined_grid[0])]\n",
    "\n",
    "    def step_agent(self, state, action):\n",
    "        #[row, column]\n",
    "        if action == 1: # down\n",
    "            # if we are in top row no change\n",
    "            if state[0] == 0:\n",
    "                None\n",
    "            # otherwise increase row position\n",
    "            else:\n",
    "                state[0] -= 1\n",
    "        elif action == 2: # up\n",
    "            if state[0] == self.grid_dim[1]-1:\n",
    "                None\n",
    "            # otherwise increase row position\n",
    "            else:\n",
    "                state[0] += 1\n",
    "        elif action == 3: # right\n",
    "            if state[1] == self.grid_dim[0]-1:\n",
    "                None\n",
    "            # otherwise increase row position\n",
    "            else:\n",
    "                state[1] += 1\n",
    "        elif action == 4: # down\n",
    "            if state[1] == 0:\n",
    "                None\n",
    "            # otherwise increase row position\n",
    "            else:\n",
    "                state[1] -= 1\n",
    "        elif action == 0: # dont_move\n",
    "            None\n",
    "        else:\n",
    "            print(\"key error for movement in step_agent\")\n",
    "        return state\n",
    "\n",
    "    def simulate_trajectory(self, T, samples, policy):\n",
    "        # initialize variables to iterate\n",
    "        current_state =  deepcopy(self.start_state)\n",
    "        current_reward = deepcopy(self.grid[current_state[0]][current_state[1]])\n",
    "        current_action = policy(current_state)\n",
    "        # initialize tensor storage\n",
    "        state_tensor = torch.zeros((len(current_state), T, samples), requires_grad = False)\n",
    "        reward_tensor = torch.zeros((T, samples), requires_grad = False)\n",
    "        action_tensor = torch.zeros((T, samples), requires_grad = False)\n",
    "        # iterate through all states and actions\n",
    "        for sample in range(samples):\n",
    "            for t in range(T):\n",
    "                # store values\n",
    "                state_tensor[:,t,sample] = torch.FloatTensor(current_state)\n",
    "                reward_tensor[t,sample] = current_reward\n",
    "                action_tensor[t,sample] = current_action\n",
    "                # simulate new values\n",
    "                current_state = self.step_agent(current_state, current_action)\n",
    "                current_reward = deepcopy(self.grid[current_state[0]][current_state[1]])\n",
    "                current_action = policy(current_state)\n",
    "\n",
    "        # return it all\n",
    "        return state_tensor, action_tensor, reward_tensor"
   ]
  },
  {
   "cell_type": "markdown",
   "metadata": {},
   "source": [
    "## Now the Cost Function\n",
    "\n",
    "This cost function will include the primary forward call that is used when we apply pytorches backward function, \n",
    "a def to compute the advantage estimate, and finally a baseline function. In this case we could apply a clipped \n",
    "exponential average, however this can easily be replaced by a optimization procedure that directly minimizes the \n",
    "MSE between the estimated baseline (which is now parameterized), and the cumulative reward (regularized by the entropy). I tried to vectorize as much of the computation as possible without making it unreadable. For now we will \n",
    "just leave the baseline at zero, to see if we can stabalize the gradient by increasing sampling."
   ]
  },
  {
   "cell_type": "code",
   "execution_count": 24,
   "metadata": {},
   "outputs": [],
   "source": [
    "class POLICY_GRADIENT_LOSS(torch.nn.Module):\n",
    "    \"\"\" MAXIMUM ENTROPY POLICY GRADIENTS LOSS FUNCTION \"\"\"\n",
    "    def __init__(self, alpha, discount, sd, trajectory_length, simulations):\n",
    "        super(POLICY_GRADIENT_LOSS, self).__init__()\n",
    "        self.sd = sd\n",
    "        self.alpha = alpha\n",
    "        self.discount = discount\n",
    "        self.trajectory_length = trajectory_length\n",
    "        self.simulations = simulations\n",
    "        self.base_line = 0\n",
    "\n",
    "    def Baseline_approximation(self, x, y, state_size):\n",
    "        baseline = 0\n",
    "        return baseline\n",
    "\n",
    "    def Advantage_estimator(self, logliklihood_tensor, trajectories_state_tensor, \\\n",
    "                            trajectories_action_tensor, trajectories_reward_tensor):\n",
    "        \"\"\" COMPUTES ROLL OUT WITH MAX ENT REGULARIZATION \"\"\"\n",
    "        # initialize cumulative running average for states ahead\n",
    "        cumulative_rollout = torch.zeros([self.trajectory_length, self.simulations])\n",
    "        # calculate cumulative running average for states ahead + subtract entropy term\n",
    "        cumulative_rollout[self.trajectory_length-1,:] = trajectories_reward_tensor[self.trajectory_length-1,:] \\\n",
    "                                                         + self.alpha*logliklihood_tensor[self.trajectory_length-1,:]\n",
    "        # primary loop\n",
    "        for time in reversed(range(0, self.trajectory_length-1)):\n",
    "            cumulative_rollout[time,:] = trajectories_reward_tensor[time, :] \\\n",
    "                                         + self.discount * cumulative_rollout[time+1,:] \\\n",
    "                                         + self.alpha * logliklihood_tensor[time,:]\n",
    "        # detach cumulative reward from computation graph\n",
    "        advantage = cumulative_rollout.detach()\n",
    "        return advantage\n",
    "\n",
    "    def forward(self, model_liklihood, trajectories_state_tensor, trajectories_action_tensor, trajectories_reward_tensor):\n",
    "        \"\"\" CALCULATE LOG LIKLIHOOD OF TRAJECTORIES \"\"\"\n",
    "        # initialize tensor for log liklihood stuff\n",
    "        logliklihood_tensor = torch.zeros([self.trajectory_length, self.simulations])\n",
    "        # generate tensor for log liklihood stuff\n",
    "        for time in range(self.trajectory_length):\n",
    "            for simulation in range(self.simulations):\n",
    "                # [simulation #, value, time step]\n",
    "                logliklihood_tensor[time,simulation] = model_liklihood(trajectories_state_tensor[:,time,simulation],\\\n",
    "                                                                       trajectories_action_tensor[time,simulation])\n",
    "        \"\"\" CALCULATE ADVANTAGE REGULARIZED BY ENTROPY \"\"\"\n",
    "        A_hat = self.Advantage_estimator(logliklihood_tensor, trajectories_state_tensor, trajectories_action_tensor, \\\n",
    "                                         trajectories_reward_tensor)\n",
    "        \"\"\" CALCULATE POLICY GRADIENT OBJECTIVE \"\"\"\n",
    "        # initialize expectation tensor\n",
    "        expectation = 0\n",
    "        # calculate instance of expectation for timestep then calc sample mean\n",
    "        for time in range(self.trajectory_length):\n",
    "            expectation += torch.dot(A_hat[time,:], logliklihood_tensor[time,:])/self.simulations\n",
    "        # sum accross time\n",
    "        expectation = -1 * torch.sum(expectation)/self.trajectory_length\n",
    "\n",
    "        \"\"\" RETURN \"\"\"\n",
    "        return expectation\n"
   ]
  },
  {
   "cell_type": "markdown",
   "metadata": {},
   "source": [
    "## Lastly the Training Function\n",
    "\n",
    "In this function we generate the policy class, initialize the optimizer and loss functions, and then take optimization \n",
    "steps. In order to do this we have to sample a set of trajectories under our current policy, and then compute the entropy regularized cumulative reward at each step. While I have chosen to use Adam, it has been shown that convergence can be sped up by using conjugate gradient decent instead of adams diagnol approximation. In order to do this we would simply average the sum of the outer product of each of our score functions to approximate the fisher information, and then apply a forward solve between this matrix and the gradient vector generated from backprop."
   ]
  },
  {
   "cell_type": "code",
   "execution_count": 25,
   "metadata": {},
   "outputs": [],
   "source": [
    "def train_policy(epochs, grid, samples, T, discount, alpha, sd):\n",
    "\n",
    "    # initialize policy\n",
    "    policy_obj = POLICY(2, 5)\n",
    "\n",
    "    # set optimization info\n",
    "    optimizer = torch.optim.Adam(policy_obj.parameters(), lr=1e-2)\n",
    "    loss_func = POLICY_GRADIENT_LOSS(alpha, discount, sd,  T, samples)\n",
    "    \n",
    "    # plotting storage (loss and cumulative reward)\n",
    "    loss_per_iteration = torch.zeros((epochs))\n",
    "    cr_per_iteration = torch.zeros((epochs))\n",
    "    \n",
    "    # train model\n",
    "    for epoch in range(epochs):\n",
    "        \n",
    "        # set the probability of picking a random move\n",
    "        randomness = (10 + epoch)/(1+epoch)**2\n",
    "        \n",
    "        # set policy\n",
    "        policy = lambda state: policy_obj.sample_action(state, randomness)\n",
    "        log_prob = lambda state, action: policy_obj.logprob_action(state, action)\n",
    "        \n",
    "        # get sampled trajectories\n",
    "        state_tensor, action_tensor, reward_tensor = grid.simulate_trajectory(T, samples, policy)\n",
    "        \n",
    "        # loss objective being minimized\n",
    "        loss = loss_func(log_prob, state_tensor, action_tensor, reward_tensor)\n",
    "        \n",
    "        # zero the parameter gradients\n",
    "        optimizer.zero_grad()\n",
    "        \n",
    "        # backprop through computation graph\n",
    "        loss.backward()\n",
    "        \n",
    "        # step optimizer\n",
    "        optimizer.step()\n",
    "        \n",
    "        # print loss\n",
    "        print(\"current loss at iteration: \" + str(epoch/epochs) + \", with loss: \" + str(loss) + \", ends in state: \" + str(state_tensor[:,-1,0]), end='\\r')\n",
    "        \n",
    "        # store loss\n",
    "        loss_per_iteration[epoch] = loss\n",
    "        cr_per_iteration[epoch] = sum(sum(reward_tensor))/samples\n",
    "        \n",
    "    # print a trajectory\n",
    "    state_tensor, action_tensor, reward_tensor = grid.simulate_trajectory(T, samples, policy)\n",
    "    for time in range(50):\n",
    "        print(state_tensor[:,time,0], reward_tensor[time,0], action_tensor[time,0], end='\\r')\n",
    "\n",
    "    # return policy\n",
    "    return policy, loss_per_iteration, cr_per_iteration"
   ]
  },
  {
   "cell_type": "markdown",
   "metadata": {},
   "source": [
    "# Now all we have to do is run it!\n",
    "Below I have set the grid that we will be using, as well as the start state and the number of iterations.  "
   ]
  },
  {
   "cell_type": "code",
   "execution_count": 45,
   "metadata": {},
   "outputs": [
    {
     "name": "stdout",
     "output_type": "stream",
     "text": [
      "tensor([0., 5.]) tensor(1000.) tensor(3.)ss: tensor(73844.0547, grad_fn=<DivBackward0>), ends in state: tensor([0., 5.])\r"
     ]
    }
   ],
   "source": [
    "pre_determined_grid = [[-1,   -1,  -1,   -10,   -1, 10**3],\n",
    "                       [-100, -1,  -10,  -1,   -10, -10],\n",
    "                       [-1,   -10, -100, -10,  -1, -1],\n",
    "                       [-1,   -1,  -100, -10,  -1, -1],\n",
    "                       [-10,  -1,  -100, -100, -100, -1],\n",
    "                       [-1,   -1,  -100, -100, -100, -1]]\n",
    "\n",
    "# hyper parameters\n",
    "iterations = 500\n",
    "Time = 300\n",
    "simulations = 10\n",
    "discount = 0.99\n",
    "\n",
    "#initializations\n",
    "start_state = [5,0]\n",
    "policy_obj = POLICY(2, 5)\n",
    "policy = lambda state: policy_obj.sample(state)\n",
    "grid = GRID_WORLD(pre_determined_grid, start_state)\n",
    "policy, loss_per_iteration, cr_per_iteration = train_policy(iterations, grid, 10, Time, discount, 1, 1)\n"
   ]
  },
  {
   "cell_type": "markdown",
   "metadata": {},
   "source": [
    "## Now lets plot everything "
   ]
  },
  {
   "cell_type": "code",
   "execution_count": 47,
   "metadata": {},
   "outputs": [
    {
     "data": {
      "image/png": "[encoded data removed]",
      "text/plain": [
       "<Figure size 432x288 with 1 Axes>"
      ]
     },
     "metadata": {},
     "output_type": "display_data"
    }
   ],
   "source": [
    "import matplotlib.pyplot as plt\n",
    "plt.plot([i for i in range(iterations)], -1*loss_per_iteration.detach().numpy())\n",
    "plt.title('Loss Per Iteration')\n",
    "plt.ylabel('Loss')\n",
    "plt.xlabel('Iteration')\n",
    "plt.show()"
   ]
  },
  {
   "cell_type": "code",
   "execution_count": 48,
   "metadata": {},
   "outputs": [
    {
     "data": {
      "image/png": "[encoded data removed]",
      "text/plain": [
       "<Figure size 432x288 with 1 Axes>"
      ]
     },
     "metadata": {},
     "output_type": "display_data"
    }
   ],
   "source": [
    "plt.plot([i for i in range(iterations)], cr_per_iteration.numpy())\n",
    "plt.title('Cumulative Reward Per Iteration')\n",
    "plt.ylabel('Cumulative Reward')\n",
    "plt.xlabel('Iteration')\n",
    "plt.show()"
   ]
  },
  {
   "cell_type": "markdown",
   "metadata": {},
   "source": [
    "## It looks like everything has converged, but lets look a trajectory to see if we are actually close"
   ]
  },
  {
   "cell_type": "code",
   "execution_count": 49,
   "metadata": {},
   "outputs": [
    {
     "name": "stdout",
     "output_type": "stream",
     "text": [
      "tensor([5., 0.]) tensor(-1.) tensor(1.)\n",
      "tensor([4., 0.]) tensor(-10.) tensor(1.)\n",
      "tensor([3., 0.]) tensor(-1.) tensor(1.)\n",
      "tensor([2., 0.]) tensor(-1.) tensor(1.)\n",
      "tensor([1., 0.]) tensor(-100.) tensor(1.)\n",
      "tensor([0., 0.]) tensor(-1.) tensor(2.)\n",
      "tensor([1., 0.]) tensor(-100.) tensor(3.)\n",
      "tensor([1., 1.]) tensor(-1.) tensor(1.)\n",
      "tensor([0., 1.]) tensor(-1.) tensor(1.)\n",
      "tensor([0., 1.]) tensor(-1.) tensor(3.)\n",
      "tensor([0., 2.]) tensor(-1.) tensor(3.)\n",
      "tensor([0., 3.]) tensor(-10.) tensor(1.)\n",
      "tensor([0., 3.]) tensor(-10.) tensor(1.)\n",
      "tensor([0., 3.]) tensor(-10.) tensor(3.)\n",
      "tensor([0., 4.]) tensor(-1.) tensor(1.)\n",
      "tensor([0., 4.]) tensor(-1.) tensor(1.)\n",
      "tensor([0., 4.]) tensor(-1.) tensor(3.)\n",
      "tensor([0., 5.]) tensor(1000.) tensor(0.)\n",
      "tensor([0., 5.]) tensor(1000.) tensor(1.)\n",
      "tensor([0., 5.]) tensor(1000.) tensor(3.)\n",
      "tensor([0., 5.]) tensor(1000.) tensor(1.)\n",
      "tensor([0., 5.]) tensor(1000.) tensor(3.)\n",
      "tensor([0., 5.]) tensor(1000.) tensor(1.)\n",
      "tensor([0., 5.]) tensor(1000.) tensor(3.)\n",
      "tensor([0., 5.]) tensor(1000.) tensor(3.)\n"
     ]
    }
   ],
   "source": [
    "T = 50\n",
    "samples = 1\n",
    "state_tensor, action_tensor, reward_tensor = grid.simulate_trajectory(T, samples, policy)\n",
    "for time in range(25):\n",
    "    print(state_tensor[:,time,0], reward_tensor[time,0], action_tensor[time,0])"
   ]
  },
  {
   "cell_type": "markdown",
   "metadata": {},
   "source": [
    "## We can also look at what actions are sampled at all positions to see if they seem reasonable"
   ]
  },
  {
   "cell_type": "code",
   "execution_count": 50,
   "metadata": {},
   "outputs": [
    {
     "name": "stdout",
     "output_type": "stream",
     "text": [
      "[0, 0, 2, 3, 3, 0]\n",
      "[1, 0, 3, 4, 1, 3]\n",
      "[3, 0, 1, 1, 1, 0]\n",
      "[1, 1, 0, 1, 1, 1]\n",
      "[1, 1, 1, 1, 1, 1]\n",
      "[1, 1, 1, 1, 1, 1]\n"
     ]
    }
   ],
   "source": [
    "for x in range(len(pre_determined_grid[0])):\n",
    "    row = []\n",
    "    for y in range(len(pre_determined_grid)):\n",
    "        row.append(int(policy([x, y])))\n",
    "    print(row)"
   ]
  },
  {
   "cell_type": "markdown",
   "metadata": {},
   "source": [
    "## Thats it for my first blog post!\n",
    "Alright, thats about it! we have a functioning implimentation of maximum entropy policy gradients. Next time we will look at different baseline functions (also called critics) to reduce variance of our score function (the log probability of a action given a state). One thing to note here, is that I did have to fiddle with the reward at the target position to ensure that the agent actually converged to the correct position. In fact for whatever reason, in some cases, even after the addition of some additional noise near the begining of training, the agent settled into not \n",
    "doing anything. Which is one of the largest issues with maximum entropy RL, that the ratio of the reward surface and entropy surface matter, and inequity between them can mean bad solutions. Feel free to leave comments or suggestions below to make this code a bit quicker (or if you see any errors). Happy holidays, and Praise the Sun!"
   ]
  },
  {
   "cell_type": "code",
   "execution_count": null,
   "metadata": {},
   "outputs": [],
   "source": []
  }
 ],
 "metadata": {
  "kernelspec": {
   "display_name": "Python 3",
   "language": "python",
   "name": "python3"
  },
  "language_info": {
   "codemirror_mode": {
    "name": "ipython",
    "version": 3
   },
   "file_extension": ".py",
   "mimetype": "text/x-python",
   "name": "python",
   "nbconvert_exporter": "python",
   "pygments_lexer": "ipython3",
   "version": "3.6.5"
  }
 },
 "nbformat": 4,
 "nbformat_minor": 2
}
