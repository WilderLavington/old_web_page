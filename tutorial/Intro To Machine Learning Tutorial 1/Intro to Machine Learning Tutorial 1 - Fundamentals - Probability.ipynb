{
 "cells": [
  {
   "cell_type": "code",
   "execution_count": 183,
   "metadata": {},
   "outputs": [],
   "source": [
    "# lets get all of our imports \n",
    "import numpy as np\n",
    "import numpy.random as random\n",
    "import matplotlib.pyplot as plt\n",
    "import scipy as sp"
   ]
  },
  {
   "cell_type": "code",
   "execution_count": 184,
   "metadata": {},
   "outputs": [
    {
     "data": {
      "text/plain": [
       "array([19, 98, 96, 96, 44, 75, 15, 38, 46, 32])"
      ]
     },
     "execution_count": 184,
     "metadata": {},
     "output_type": "execute_result"
    }
   ],
   "source": [
    "# generate a list of random integers\n",
    "random.randint(0,100, 10)"
   ]
  },
  {
   "cell_type": "code",
   "execution_count": 196,
   "metadata": {},
   "outputs": [
    {
     "data": {
      "text/plain": [
       "array([[0.0274154 , 0.26351765, 0.71539706, 0.9077547 , 0.94770203,\n",
       "        0.17549345, 0.45714935, 0.28910519, 0.88467838, 0.55624954]])"
      ]
     },
     "execution_count": 196,
     "metadata": {},
     "output_type": "execute_result"
    }
   ],
   "source": [
    "# generate a list of random numbers\n",
    "np.random.rand(1,10)"
   ]
  },
  {
   "cell_type": "code",
   "execution_count": 225,
   "metadata": {},
   "outputs": [
    {
     "data": {
      "text/plain": [
       "array([[0.53147563],\n",
       "       [0.41323128],\n",
       "       [0.05529309]])"
      ]
     },
     "execution_count": 225,
     "metadata": {},
     "output_type": "execute_result"
    }
   ],
   "source": [
    "# random numbers that sum to one\n",
    "np.random.dirichlet((10, 10, 1), 1).transpose()"
   ]
  },
  {
   "cell_type": "code",
   "execution_count": 209,
   "metadata": {},
   "outputs": [
    {
     "name": "stdout",
     "output_type": "stream",
     "text": [
      "[['g' 'B' 'j' 'm']\n",
      " ['u' 'Q' 'a' 'C']\n",
      " ['V' 'w' '3' 'o']\n",
      " ['x' 'r' 'T' 'Z']\n",
      " ['J' 'F' 'w' 'A']\n",
      " ['C' 'l' 'C' '7']\n",
      " ['a' 'm' 'n' 'G']\n",
      " ['B' 'c' 'N' 'l']\n",
      " ['E' 'P' 's' 'm']\n",
      " ['W' 'j' '4' '4']]\n"
     ]
    }
   ],
   "source": [
    "# generating random strings or passwords with python\n",
    "length  = 4\n",
    "n_codes = 10\n",
    "alpha_num = list('abcdefghijklmnopqrstuvwxyzABCDEFGHIJKLMNOPQRSTUVWXYZ0123456789')\n",
    "np_codes = np.random.choice(alpha_num, size=[n_codes, length])\n",
    "print(np_codes)"
   ]
  },
  {
   "cell_type": "code",
   "execution_count": 94,
   "metadata": {},
   "outputs": [
    {
     "name": "stdout",
     "output_type": "stream",
     "text": [
      "0.507\n"
     ]
    }
   ],
   "source": [
    "# approximate probability of heads (coin flipping)\n",
    "n = 1\n",
    "p = 0.5\n",
    "s = random.binomial(n, p, 1000)\n",
    "average = sum(s)/len(s)\n",
    "print(average)"
   ]
  },
  {
   "cell_type": "code",
   "execution_count": 95,
   "metadata": {},
   "outputs": [
    {
     "name": "stdout",
     "output_type": "stream",
     "text": [
      "0.0375\n",
      "0.013125\n",
      "0.00984375\n",
      "0.26249999999999996\n",
      "0.11249999999999999\n",
      "0.074375\n",
      "0.10359375\n",
      "0.48750000000000004\n"
     ]
    }
   ],
   "source": [
    "# calculating probability of multiple events (independent)\n",
    "prob_event1 = 0.15\n",
    "prob_event2 = 0.25\n",
    "prob_event3 = 0.35\n",
    "prob_event7 = 0.75\n",
    "# intersection of independent events\n",
    "print(prob_event1*prob_event2)\n",
    "print(prob_event1*prob_event2*prob_event3)\n",
    "print(prob_event1*prob_event2*prob_event3*prob_event7)\n",
    "print(prob_event3*prob_event7)\n",
    "# intersection of independent events with compliments\n",
    "print(prob_event1*(1-prob_event2))\n",
    "print((1-prob_event1)*prob_event2*prob_event3)\n",
    "print((1-prob_event1)*(1-prob_event2)*(1-prob_event3)*(1-prob_event7))\n",
    "print((1-prob_event3)*prob_event7)"
   ]
  },
  {
   "cell_type": "code",
   "execution_count": 96,
   "metadata": {},
   "outputs": [
    {
     "data": {
      "text/plain": [
       "0.265"
      ]
     },
     "execution_count": 96,
     "metadata": {},
     "output_type": "execute_result"
    }
   ],
   "source": [
    "# law of total probability\n",
    "prob_event1 = 0.15\n",
    "prob_event2 = 0.25\n",
    "prob_event3_given2 = 0.25\n",
    "prob_event3_given1 = 0.45\n",
    "# probability of event 3\n",
    "prob_event3_given1*prob_event3_given1+prob_event3_given2*prob_event3_given2"
   ]
  },
  {
   "cell_type": "code",
   "execution_count": 97,
   "metadata": {},
   "outputs": [
    {
     "name": "stdout",
     "output_type": "stream",
     "text": [
      "0.1125\n",
      "0.4875\n"
     ]
    }
   ],
   "source": [
    "# calculating probability of multiple events (dependent)\n",
    "prob_event1 = 0.15\n",
    "prob_event2 = 0.25\n",
    "prob_event3 = 0.35\n",
    "prob_event2_given1 = 0.25\n",
    "prob_event3_given2 = 0.45\n",
    "# event 3 and event 2\n",
    "print(prob_event3_given2*prob_event2)\n",
    "# event 3 or event 2\n",
    "print(prob_event3 + prob_event2 - prob_event3_given2*prob_event2)"
   ]
  },
  {
   "cell_type": "code",
   "execution_count": 98,
   "metadata": {},
   "outputs": [
    {
     "name": "stdout",
     "output_type": "stream",
     "text": [
      "0.4766092156173057\n",
      "0.03965881111501934\n",
      "0.483731973267675\n"
     ]
    }
   ],
   "source": [
    "# calculate probability of discrete probability distributions (simple)\n",
    "number_of_apples = 10840\n",
    "number_of_pears = 902\n",
    "number_of_oranges = 11002\n",
    "# if we put em in a bag and draw them out at random\n",
    "prob_of_apple = number_of_apples/(number_of_apples+number_of_pears+number_of_oranges)\n",
    "print(prob_of_apple)\n",
    "prob_of_pear = number_of_pears/(number_of_apples+number_of_pears+number_of_oranges)\n",
    "print(prob_of_pear)\n",
    "prob_of_orange = number_of_oranges/(number_of_apples+number_of_pears+number_of_oranges)\n",
    "print(prob_of_orange)"
   ]
  },
  {
   "cell_type": "code",
   "execution_count": 99,
   "metadata": {},
   "outputs": [
    {
     "name": "stdout",
     "output_type": "stream",
     "text": [
      "0.45\n",
      "0.01\n",
      "0.54\n"
     ]
    }
   ],
   "source": [
    "# calculate probability of discrete probability distributions (wierder)\n",
    "# If I pick from a bag of fruits, then remove the fruit I pick until there is only one left, \n",
    "# what is the probability of landing on a orange?\n",
    "apple_bin = 0\n",
    "pear_bin = 0\n",
    "orange_bin = 0\n",
    "for simulation in range(10**2):\n",
    "    number_of_apples = 1084\n",
    "    number_of_pears = 92\n",
    "    number_of_oranges = 1102\n",
    "    all_empty = False\n",
    "    while not all_empty:\n",
    "        # calculate current prob for each\n",
    "        prob_of_apple = number_of_apples/(number_of_apples+number_of_pears+number_of_oranges)\n",
    "        prob_of_pear = number_of_pears/(number_of_apples+number_of_pears+number_of_oranges)\n",
    "        prob_of_orange = number_of_oranges/(number_of_apples+number_of_pears+number_of_oranges)\n",
    "        # sample from bin\n",
    "        elements = [1, 2, 3]\n",
    "        probabilities = [prob_of_apple, prob_of_pear, prob_of_orange]\n",
    "        pick = np.random.choice(elements, 1, p=probabilities)\n",
    "        # remove the object from bin\n",
    "        if pick == 1:\n",
    "            number_of_apples -= 1  \n",
    "        elif pick == 2:\n",
    "            number_of_pears -= 1\n",
    "        else:\n",
    "            number_of_oranges -= 1\n",
    "        # check if they are all empty\n",
    "        if number_of_apples + number_of_pears + number_of_oranges == 0:\n",
    "            # update bin loop condition\n",
    "            all_empty = True\n",
    "            # add to bin counter\n",
    "            if pick == 1:\n",
    "                apple_bin += 1  \n",
    "            elif pick == 2:\n",
    "                pear_bin += 1\n",
    "            else:\n",
    "                orange_bin += 1\n",
    "# lets see the probabilities\n",
    "prob_of_apple = apple_bin/(10**2)\n",
    "print(prob_of_apple)\n",
    "prob_of_pear = pear_bin/(10**2)\n",
    "print(prob_of_pear)\n",
    "prob_of_orange = orange_bin/(10**2)\n",
    "print(prob_of_orange)"
   ]
  },
  {
   "cell_type": "code",
   "execution_count": 100,
   "metadata": {},
   "outputs": [
    {
     "data": {
      "text/plain": [
       "(array([1041.,  987., 1024.,  988.,  982.,  974., 1019.,  982., 1019.,\n",
       "         984.]),\n",
       " array([7.47425378e-05, 1.00067162e-01, 2.00059581e-01, 3.00052001e-01,\n",
       "        4.00044420e-01, 5.00036839e-01, 6.00029259e-01, 7.00021678e-01,\n",
       "        8.00014098e-01, 9.00006517e-01, 9.99998936e-01]),\n",
       " <a list of 10 Patch objects>)"
      ]
     },
     "execution_count": 100,
     "metadata": {},
     "output_type": "execute_result"
    },
    {
     "data": {
      "image/png": "[encoded data removed]",
      "text/plain": [
       "<Figure size 432x288 with 1 Axes>"
      ]
     },
     "metadata": {},
     "output_type": "display_data"
    }
   ],
   "source": [
    "# sample numbers from a beta distribution\n",
    "samples = np.random.beta(1, 1, size=10**4)\n",
    "plt.hist(samples, bins=10)"
   ]
  },
  {
   "cell_type": "code",
   "execution_count": 101,
   "metadata": {},
   "outputs": [
    {
     "data": {
      "text/plain": [
       "(array([3230., 1273.,  997.,  860.,  719.,  685.,  608.,  578.,  555.,\n",
       "         495.]),\n",
       " array([1.30095660e-08, 9.99893909e-02, 1.99978769e-01, 2.99968147e-01,\n",
       "        3.99957525e-01, 4.99946902e-01, 5.99936280e-01, 6.99925658e-01,\n",
       "        7.99915036e-01, 8.99904414e-01, 9.99893792e-01]),\n",
       " <a list of 10 Patch objects>)"
      ]
     },
     "execution_count": 101,
     "metadata": {},
     "output_type": "execute_result"
    },
    {
     "data": {
      "image/png": "[encoded data removed]",
      "text/plain": [
       "<Figure size 432x288 with 1 Axes>"
      ]
     },
     "metadata": {},
     "output_type": "display_data"
    }
   ],
   "source": [
    "# sample numbers from a beta distribution\n",
    "samples = np.random.beta(0.5, 1, size=10**4)\n",
    "plt.hist(samples, bins=10)"
   ]
  },
  {
   "cell_type": "code",
   "execution_count": 102,
   "metadata": {},
   "outputs": [
    {
     "data": {
      "text/plain": [
       "(array([ 533.,  561.,  574.,  594.,  645.,  738.,  826., 1007., 1298.,\n",
       "        3224.]),\n",
       " array([5.97328242e-05, 1.00053759e-01, 2.00047785e-01, 3.00041811e-01,\n",
       "        4.00035837e-01, 5.00029863e-01, 6.00023889e-01, 7.00017915e-01,\n",
       "        8.00011941e-01, 9.00005967e-01, 9.99999993e-01]),\n",
       " <a list of 10 Patch objects>)"
      ]
     },
     "execution_count": 102,
     "metadata": {},
     "output_type": "execute_result"
    },
    {
     "data": {
      "image/png": "[encoded data removed]",
      "text/plain": [
       "<Figure size 432x288 with 1 Axes>"
      ]
     },
     "metadata": {},
     "output_type": "display_data"
    }
   ],
   "source": [
    "# sample numbers from a beta distribution\n",
    "samples = np.random.beta(1, 0.5, size=10**4)\n",
    "plt.hist(samples, bins=10)"
   ]
  },
  {
   "cell_type": "code",
   "execution_count": 103,
   "metadata": {},
   "outputs": [
    {
     "data": {
      "text/plain": [
       "(array([2025.,  935.,  704.,  681.,  591.,  651.,  643.,  812.,  941.,\n",
       "        2017.]),\n",
       " array([1.25198650e-09, 1.00000001e-01, 2.00000000e-01, 3.00000000e-01,\n",
       "        3.99999999e-01, 4.99999999e-01, 5.99999998e-01, 6.99999998e-01,\n",
       "        7.99999998e-01, 8.99999997e-01, 9.99999997e-01]),\n",
       " <a list of 10 Patch objects>)"
      ]
     },
     "execution_count": 103,
     "metadata": {},
     "output_type": "execute_result"
    },
    {
     "data": {
      "image/png": "[encoded data removed]",
      "text/plain": [
       "<Figure size 432x288 with 1 Axes>"
      ]
     },
     "metadata": {},
     "output_type": "display_data"
    }
   ],
   "source": [
    "# sample numbers from a beta distribution\n",
    "samples = np.random.beta(0.5, 0.5, size=10**4)\n",
    "plt.hist(samples, bins=10)"
   ]
  },
  {
   "cell_type": "code",
   "execution_count": 104,
   "metadata": {},
   "outputs": [
    {
     "data": {
      "text/plain": [
       "(array([7.291e+03, 1.497e+03, 6.470e+02, 3.000e+02, 1.270e+02, 7.100e+01,\n",
       "        3.000e+01, 2.600e+01, 7.000e+00, 4.000e+00]),\n",
       " array([2.24007589e-08, 6.16164095e-01, 1.23232817e+00, 1.84849224e+00,\n",
       "        2.46465631e+00, 3.08082039e+00, 3.69698446e+00, 4.31314853e+00,\n",
       "        4.92931260e+00, 5.54547668e+00, 6.16164075e+00]),\n",
       " <a list of 10 Patch objects>)"
      ]
     },
     "execution_count": 104,
     "metadata": {},
     "output_type": "execute_result"
    },
    {
     "data": {
      "image/png": "[encoded data removed]",
      "text/plain": [
       "<Figure size 432x288 with 1 Axes>"
      ]
     },
     "metadata": {},
     "output_type": "display_data"
    }
   ],
   "source": [
    "# sample numbers from a gamma distribution\n",
    "samples = np.random.gamma(0.5, 1, size=10**4)\n",
    "plt.hist(samples, bins=10)"
   ]
  },
  {
   "cell_type": "code",
   "execution_count": 105,
   "metadata": {},
   "outputs": [
    {
     "data": {
      "text/plain": [
       "(array([ 154., 1053., 2564., 2763., 1982.,  933.,  389.,  120.,   33.,\n",
       "           9.]),\n",
       " array([ 2.04210355,  4.2597671 ,  6.47743066,  8.69509421, 10.91275776,\n",
       "        13.13042132, 15.34808487, 17.56574842, 19.78341198, 22.00107553,\n",
       "        24.21873908]),\n",
       " <a list of 10 Patch objects>)"
      ]
     },
     "execution_count": 105,
     "metadata": {},
     "output_type": "execute_result"
    },
    {
     "data": {
      "image/png": "[encoded data removed]",
      "text/plain": [
       "<Figure size 432x288 with 1 Axes>"
      ]
     },
     "metadata": {},
     "output_type": "display_data"
    }
   ],
   "source": [
    "# sample numbers from a gamma distribution\n",
    "samples = np.random.gamma(10, 1, size=10**4)\n",
    "plt.hist(samples, bins=10)"
   ]
  },
  {
   "cell_type": "code",
   "execution_count": 106,
   "metadata": {},
   "outputs": [
    {
     "data": {
      "text/plain": [
       "(array([  10.,  135.,  656., 1694., 2879., 2786., 1353.,  415.,   66.,\n",
       "           6.]), array([-35.97955456, -28.37615169, -20.77274882, -13.16934595,\n",
       "         -5.56594307,   2.0374598 ,   9.64086267,  17.24426554,\n",
       "         24.84766842,  32.45107129,  40.05447416]), <a list of 10 Patch objects>)"
      ]
     },
     "execution_count": 106,
     "metadata": {},
     "output_type": "execute_result"
    },
    {
     "data": {
      "image/png": "[encoded data removed]",
      "text/plain": [
       "<Figure size 432x288 with 1 Axes>"
      ]
     },
     "metadata": {},
     "output_type": "display_data"
    }
   ],
   "source": [
    "# sample numbers from a normal distribution\n",
    "samples = np.random.normal(1, 10, size=10**4)\n",
    "plt.hist(samples, bins=10)"
   ]
  },
  {
   "cell_type": "code",
   "execution_count": 107,
   "metadata": {},
   "outputs": [
    {
     "name": "stdout",
     "output_type": "stream",
     "text": [
      "0.8983739021570631\n"
     ]
    }
   ],
   "source": [
    "# calculating expectation (sample mean)\n",
    "samples = np.random.normal(1, 10, size=10**4)\n",
    "sample_mean = sum(samples)/10**4\n",
    "print(sample_mean)"
   ]
  },
  {
   "cell_type": "code",
   "execution_count": 108,
   "metadata": {},
   "outputs": [
    {
     "data": {
      "text/plain": [
       "97.56600850344066"
      ]
     },
     "execution_count": 108,
     "metadata": {},
     "output_type": "execute_result"
    }
   ],
   "source": [
    "# calculating variance (baised sample variance)\n",
    "samples = np.random.normal(1, 10, size=10**4)\n",
    "sample_mean = sum(samples)/10**4\n",
    "sample_variance = np.dot(samples-sample_mean,samples-sample_mean)/(10**4)\n",
    "sample_variance"
   ]
  },
  {
   "cell_type": "code",
   "execution_count": 109,
   "metadata": {},
   "outputs": [
    {
     "data": {
      "text/plain": [
       "101.4338577926833"
      ]
     },
     "execution_count": 109,
     "metadata": {},
     "output_type": "execute_result"
    }
   ],
   "source": [
    "# calculating variance (unbaised sample variance)\n",
    "samples = np.random.normal(1, 10, size=10**4)\n",
    "sample_mean = sum(samples)/10**4\n",
    "sample_variance = np.dot(samples-sample_mean,samples-sample_mean)/(10**4-1)\n",
    "sample_variance"
   ]
  },
  {
   "cell_type": "code",
   "execution_count": 181,
   "metadata": {},
   "outputs": [
    {
     "name": "stdout",
     "output_type": "stream",
     "text": [
      "10.53\n"
     ]
    }
   ],
   "source": [
    "# coupon collectors problem\n",
    "number_of_cards = 5\n",
    "cards = np.array([i for i in range(5)])\n",
    "total_draws = 0\n",
    "for simulation in range(10**2):\n",
    "    all_empty = False\n",
    "    elements = [1, 2, 3, 4, 5]\n",
    "    probabilities = np.array([1/5 for i in range(5)])\n",
    "    collected_cards = set()\n",
    "    draws = 0\n",
    "    while not all_empty:\n",
    "        # sample from bin\n",
    "        pick = np.random.choice(elements, 1, p=probabilities)\n",
    "        # add to collection\n",
    "        collected_cards.add(pick[0])\n",
    "        if len(collected_cards) == 5:\n",
    "            all_empty = True\n",
    "        draws += 1\n",
    "    total_draws+= draws\n",
    "        \n",
    "print(total_draws/10**2) \n",
    "    "
   ]
  },
  {
   "cell_type": "code",
   "execution_count": 165,
   "metadata": {},
   "outputs": [
    {
     "name": "stdout",
     "output_type": "stream",
     "text": [
      "[3 4]\n"
     ]
    }
   ],
   "source": [
    "# naive Bayes example using sklearn\n",
    "from sklearn.naive_bayes import GaussianNB\n",
    "import numpy as np\n",
    "\n",
    "#assigning predictor and target variables\n",
    "x= np.array([[-3,7],[1,5], [1,2], [-2,0], [2,3], [-4,0], [-1,1], [1,1], [-2,2], [2,7], [-4,1], [-2,7]])\n",
    "y = np.array([3, 3, 3, 3, 4, 3, 3, 4, 3, 4, 4, 4])\n",
    "\n",
    "#Create a Gaussian Classifier\n",
    "model = GaussianNB()\n",
    "\n",
    "# Train the model using the training sets \n",
    "model.fit(x, y)\n",
    "\n",
    "#Predict Output \n",
    "predicted= model.predict([[1,2],[3,4]])\n",
    "print(predicted)"
   ]
  },
  {
   "cell_type": "code",
   "execution_count": 180,
   "metadata": {},
   "outputs": [
    {
     "name": "stdout",
     "output_type": "stream",
     "text": [
      "3\n",
      "4\n"
     ]
    }
   ],
   "source": [
    "# from scratch\n",
    "from scipy.stats import multivariate_normal\n",
    "    \n",
    "# assigning predictor and target variables\n",
    "x = np.array([[-3,7],[1,5], [1,2], [-2,0], [2,3], [-4,0], [-1,1], [1,1], [-2,2], [2,7], [-4,1], [-2,7]])\n",
    "y = np.array([3, 3, 3, 3, 4, 3, 3, 4, 3, 4, 4, 4])\n",
    "\n",
    "# create gaussian generative models\n",
    "[1 if label == 3 else 0 for label in y]\n",
    "np.where([1 if label == 3 else 0 for label in y] == 1)\n",
    "\n",
    "xlabel3 = x[np.where(np.array([1 if label == 3 else 0 for label in y]) == 1)]\n",
    "xlabel4 = x[np.where(np.array([1 if label == 4 else 0 for label in y]) == 1)]\n",
    "\n",
    "# mean and covariance of label 4\n",
    "covariance_label4 = np.dot(np.transpose(np.array(xlabel4)),np.array(xlabel4)) / len(xlabel4)\n",
    "mean_label4 = np.sum(np.array(xlabel4), axis=0) / len(xlabel4)\n",
    "\n",
    "# mean and covariance of label 3 \n",
    "covariance_label3 = np.dot(np.transpose(np.array(xlabel3)),np.array(xlabel3)) / len(xlabel3)\n",
    "mean_label3 = np.sum(np.array(xlabel3), axis=0) / len(xlabel3)\n",
    "\n",
    "# create models \n",
    "\n",
    "model3 = multivariate_normal(mean_label3, covariance_label3)\n",
    "model4 = multivariate_normal(mean_label4, covariance_label4)\n",
    "\n",
    "# predict label\n",
    "new_label = np.array([1,2])\n",
    "pfg3 = model3.pdf(new_label)\n",
    "pfg4 = model4.pdf(new_label)\n",
    "p3 = len(xlabel3) / len(y)\n",
    "p4 = len(xlabel4) / len(y)\n",
    "ratio = (pfg3*p3) / (pfg4*p4)\n",
    "\n",
    "if ratio > 1:\n",
    "    print(3)\n",
    "else: \n",
    "    print(4)\n",
    "    \n",
    "# predict label\n",
    "new_label = np.array([3,4])\n",
    "pfg3 = model3.pdf(new_label)\n",
    "pfg4 = model4.pdf(new_label)\n",
    "p3 = len(xlabel3) / len(y)\n",
    "p4 = len(xlabel4) / len(y)\n",
    "ratio = (pfg3*p3) / (pfg4*p4)\n",
    "\n",
    "if ratio > 1:\n",
    "    print(3)\n",
    "else: \n",
    "    print(4)"
   ]
  },
  {
   "cell_type": "code",
   "execution_count": null,
   "metadata": {},
   "outputs": [],
   "source": []
  }
 ],
 "metadata": {
  "kernelspec": {
   "display_name": "Python 3",
   "language": "python",
   "name": "python3"
  },
  "language_info": {
   "codemirror_mode": {
    "name": "ipython",
    "version": 3
   },
   "file_extension": ".py",
   "mimetype": "text/x-python",
   "name": "python",
   "nbconvert_exporter": "python",
   "pygments_lexer": "ipython3",
   "version": "3.6.5"
  }
 },
 "nbformat": 4,
 "nbformat_minor": 2
}
