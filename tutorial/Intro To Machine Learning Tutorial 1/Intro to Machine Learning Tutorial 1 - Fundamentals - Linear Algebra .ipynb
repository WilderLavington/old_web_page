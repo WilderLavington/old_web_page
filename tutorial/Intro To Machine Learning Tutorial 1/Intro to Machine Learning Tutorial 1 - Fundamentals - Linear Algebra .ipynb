{
 "cells": [
  {
   "cell_type": "code",
   "execution_count": 2,
   "metadata": {},
   "outputs": [],
   "source": [
    "# lets get all of our imports \n",
    "import numpy as np\n",
    "from scipy import linalg"
   ]
  },
  {
   "cell_type": "code",
   "execution_count": 3,
   "metadata": {},
   "outputs": [
    {
     "data": {
      "text/plain": [
       "10"
      ]
     },
     "execution_count": 3,
     "metadata": {},
     "output_type": "execute_result"
    }
   ],
   "source": [
    "# scaler - scaler multipliction\n",
    "x = 1\n",
    "y = 10\n",
    "x*y"
   ]
  },
  {
   "cell_type": "code",
   "execution_count": 4,
   "metadata": {},
   "outputs": [
    {
     "data": {
      "text/plain": [
       "13.718281828459045"
      ]
     },
     "execution_count": 4,
     "metadata": {},
     "output_type": "execute_result"
    }
   ],
   "source": [
    "# other functions \n",
    "x*y + 1 - np.sin(x)\n",
    "x*y + 1 + np.log(x)\n",
    "x*y + 1 + np.exp(x)"
   ]
  },
  {
   "cell_type": "code",
   "execution_count": 5,
   "metadata": {},
   "outputs": [
    {
     "data": {
      "text/plain": [
       "array([0.89710993, 0.12051295])"
      ]
     },
     "execution_count": 5,
     "metadata": {},
     "output_type": "execute_result"
    }
   ],
   "source": [
    "# generating arrays (random)\n",
    "np.random.rand(2)"
   ]
  },
  {
   "cell_type": "code",
   "execution_count": 6,
   "metadata": {},
   "outputs": [
    {
     "data": {
      "text/plain": [
       "array([2.        , 2.11111111, 2.22222222, 2.33333333, 2.44444444,\n",
       "       2.55555556, 2.66666667, 2.77777778, 2.88888889, 3.        ])"
      ]
     },
     "execution_count": 6,
     "metadata": {},
     "output_type": "execute_result"
    }
   ],
   "source": [
    "# generating arrays (linspace)\n",
    "np.linspace(2.0, 3.0, num=10)"
   ]
  },
  {
   "cell_type": "code",
   "execution_count": 7,
   "metadata": {},
   "outputs": [
    {
     "data": {
      "text/plain": [
       "array([[0.42072816, 0.99367888, 0.10717498],\n",
       "       [0.41075221, 0.09145432, 0.59458254]])"
      ]
     },
     "execution_count": 7,
     "metadata": {},
     "output_type": "execute_result"
    }
   ],
   "source": [
    "# generating matrices (random)\n",
    "np.random.rand(2,3)"
   ]
  },
  {
   "cell_type": "code",
   "execution_count": 8,
   "metadata": {},
   "outputs": [
    {
     "data": {
      "text/plain": [
       "array([0., 0., 0., 0., 0.])"
      ]
     },
     "execution_count": 8,
     "metadata": {},
     "output_type": "execute_result"
    }
   ],
   "source": [
    "# generating a array of zeros\n",
    "np.zeros(5)"
   ]
  },
  {
   "cell_type": "code",
   "execution_count": 9,
   "metadata": {},
   "outputs": [
    {
     "data": {
      "text/plain": [
       "array([[0., 0., 0., 0.],\n",
       "       [0., 0., 0., 0.]])"
      ]
     },
     "execution_count": 9,
     "metadata": {},
     "output_type": "execute_result"
    }
   ],
   "source": [
    "# generating a matrix of zeros\n",
    "np.zeros((2, 4))"
   ]
  },
  {
   "cell_type": "code",
   "execution_count": 10,
   "metadata": {},
   "outputs": [
    {
     "data": {
      "text/plain": [
       "array([[1., 1., 1., 1.],\n",
       "       [1., 1., 1., 1.]])"
      ]
     },
     "execution_count": 10,
     "metadata": {},
     "output_type": "execute_result"
    }
   ],
   "source": [
    "# generating a matrix of ones\n",
    "np.ones((2, 4))"
   ]
  },
  {
   "cell_type": "code",
   "execution_count": 11,
   "metadata": {},
   "outputs": [
    {
     "data": {
      "text/plain": [
       "array([7.71883455, 5.55909333, 4.72196309, 8.18830641, 5.04173909,\n",
       "       6.12424213, 6.32369485, 0.85146378, 5.69338865, 1.61538151])"
      ]
     },
     "execution_count": 11,
     "metadata": {},
     "output_type": "execute_result"
    }
   ],
   "source": [
    "# scaler - vector multipliction\n",
    "my_vector = np.random.rand(10)\n",
    "my_scaler = 10\n",
    "my_vector*my_scaler"
   ]
  },
  {
   "cell_type": "code",
   "execution_count": 12,
   "metadata": {},
   "outputs": [
    {
     "data": {
      "text/plain": [
       "array([7.71883455, 5.55909333, 4.72196309, 8.18830641, 5.04173909,\n",
       "       6.12424213, 6.32369485, 0.85146378, 5.69338865, 1.61538151])"
      ]
     },
     "execution_count": 12,
     "metadata": {},
     "output_type": "execute_result"
    }
   ],
   "source": [
    "# scaler - vector multipliction\n",
    "my_scaler*my_vector"
   ]
  },
  {
   "cell_type": "code",
   "execution_count": 13,
   "metadata": {},
   "outputs": [
    {
     "data": {
      "text/plain": [
       "array([0.02031614, 0.13484446, 0.00185586, 0.25859819, 0.02531804])"
      ]
     },
     "execution_count": 13,
     "metadata": {},
     "output_type": "execute_result"
    }
   ],
   "source": [
    "# vector - vector multipliction\n",
    "my_vector1 = np.random.rand(5)\n",
    "my_vector2 = np.random.rand(5)\n",
    "my_vector1*my_vector2"
   ]
  },
  {
   "cell_type": "code",
   "execution_count": 14,
   "metadata": {},
   "outputs": [
    {
     "ename": "ValueError",
     "evalue": "operands could not be broadcast together with shapes (5,) (4,) ",
     "output_type": "error",
     "traceback": [
      "\u001b[0;31m---------------------------------------------------------------------------\u001b[0m",
      "\u001b[0;31mValueError\u001b[0m                                Traceback (most recent call last)",
      "\u001b[0;32m<ipython-input-14-bd22f1f671e3>\u001b[0m in \u001b[0;36m<module>\u001b[0;34m()\u001b[0m\n\u001b[1;32m      1\u001b[0m \u001b[0mmy_vector2\u001b[0m \u001b[0;34m=\u001b[0m \u001b[0mnp\u001b[0m\u001b[0;34m.\u001b[0m\u001b[0mrandom\u001b[0m\u001b[0;34m.\u001b[0m\u001b[0mrand\u001b[0m\u001b[0;34m(\u001b[0m\u001b[0;36m4\u001b[0m\u001b[0;34m)\u001b[0m\u001b[0;34m\u001b[0m\u001b[0m\n\u001b[0;32m----> 2\u001b[0;31m \u001b[0mmy_vector1\u001b[0m\u001b[0;34m*\u001b[0m\u001b[0mmy_vector2\u001b[0m\u001b[0;34m\u001b[0m\u001b[0m\n\u001b[0m",
      "\u001b[0;31mValueError\u001b[0m: operands could not be broadcast together with shapes (5,) (4,) "
     ]
    }
   ],
   "source": [
    "my_vector2 = np.random.rand(4)\n",
    "my_vector1*my_vector2"
   ]
  },
  {
   "cell_type": "code",
   "execution_count": 15,
   "metadata": {},
   "outputs": [
    {
     "data": {
      "text/plain": [
       "6.1050396935969955"
      ]
     },
     "execution_count": 15,
     "metadata": {},
     "output_type": "execute_result"
    }
   ],
   "source": [
    "# make a two norm\n",
    "my_vector = np.random.rand(100)\n",
    "np.sqrt(sum(my_vector*my_vector))"
   ]
  },
  {
   "cell_type": "code",
   "execution_count": 16,
   "metadata": {},
   "outputs": [
    {
     "data": {
      "text/plain": [
       "array([[0.40831479, 0.47933131],\n",
       "       [0.37605167, 0.35696511],\n",
       "       [0.5356527 , 0.33119668],\n",
       "       [0.56133407, 0.36560858],\n",
       "       [0.18820579, 0.54082995]])"
      ]
     },
     "execution_count": 16,
     "metadata": {},
     "output_type": "execute_result"
    }
   ],
   "source": [
    "# vector - matrix multipliction\n",
    "my_vector1 = np.random.rand(2)\n",
    "my_vector2 = np.random.rand(5,2)\n",
    "my_vector1*my_vector2"
   ]
  },
  {
   "cell_type": "code",
   "execution_count": 17,
   "metadata": {},
   "outputs": [
    {
     "data": {
      "text/plain": [
       "array([[0.11835936, 0.21182314, 0.2879527 , 0.74157713, 0.03754048],\n",
       "       [0.16372846, 0.08723718, 0.00567563, 0.52096558, 0.72542968],\n",
       "       [0.32800458, 0.52248438, 0.0446537 , 0.25190191, 0.08233519],\n",
       "       [0.41465348, 0.96861864, 0.64652129, 0.02766786, 0.06586571],\n",
       "       [0.37172834, 0.02602374, 0.02995088, 0.28456768, 0.16358062]])"
      ]
     },
     "execution_count": 17,
     "metadata": {},
     "output_type": "execute_result"
    }
   ],
   "source": [
    "# matrix - matrix multipliction\n",
    "my_vector1 = np.random.rand(5,5)\n",
    "my_vector2 = np.random.rand(5,5)\n",
    "my_vector1*my_vector2"
   ]
  },
  {
   "cell_type": "code",
   "execution_count": 18,
   "metadata": {},
   "outputs": [
    {
     "ename": "ValueError",
     "evalue": "operands could not be broadcast together with shapes (5,8) (8,5) ",
     "output_type": "error",
     "traceback": [
      "\u001b[0;31m---------------------------------------------------------------------------\u001b[0m",
      "\u001b[0;31mValueError\u001b[0m                                Traceback (most recent call last)",
      "\u001b[0;32m<ipython-input-18-8658be9f367a>\u001b[0m in \u001b[0;36m<module>\u001b[0;34m()\u001b[0m\n\u001b[1;32m      1\u001b[0m \u001b[0mmy_vector1\u001b[0m \u001b[0;34m=\u001b[0m \u001b[0mnp\u001b[0m\u001b[0;34m.\u001b[0m\u001b[0mrandom\u001b[0m\u001b[0;34m.\u001b[0m\u001b[0mrand\u001b[0m\u001b[0;34m(\u001b[0m\u001b[0;36m5\u001b[0m\u001b[0;34m,\u001b[0m\u001b[0;36m8\u001b[0m\u001b[0;34m)\u001b[0m\u001b[0;34m\u001b[0m\u001b[0m\n\u001b[1;32m      2\u001b[0m \u001b[0mmy_vector2\u001b[0m \u001b[0;34m=\u001b[0m \u001b[0mnp\u001b[0m\u001b[0;34m.\u001b[0m\u001b[0mrandom\u001b[0m\u001b[0;34m.\u001b[0m\u001b[0mrand\u001b[0m\u001b[0;34m(\u001b[0m\u001b[0;36m8\u001b[0m\u001b[0;34m,\u001b[0m\u001b[0;36m5\u001b[0m\u001b[0;34m)\u001b[0m\u001b[0;34m\u001b[0m\u001b[0m\n\u001b[0;32m----> 3\u001b[0;31m \u001b[0mmy_vector1\u001b[0m\u001b[0;34m*\u001b[0m\u001b[0mmy_vector2\u001b[0m\u001b[0;34m\u001b[0m\u001b[0m\n\u001b[0m",
      "\u001b[0;31mValueError\u001b[0m: operands could not be broadcast together with shapes (5,8) (8,5) "
     ]
    }
   ],
   "source": [
    "my_vector1 = np.random.rand(5,8)\n",
    "my_vector2 = np.random.rand(8,5)\n",
    "my_vector1*my_vector2"
   ]
  },
  {
   "cell_type": "code",
   "execution_count": 49,
   "metadata": {},
   "outputs": [
    {
     "data": {
      "text/plain": [
       "array([[1.3693241 , 1.11580829, 1.85472001, 1.46165355, 1.71468081],\n",
       "       [0.9042653 , 0.71625499, 1.76306867, 1.20143342, 1.00309023],\n",
       "       [1.93089658, 1.11062217, 3.17883222, 2.3044613 , 2.37260032],\n",
       "       [1.38530494, 0.80658477, 2.16881858, 1.49877028, 1.33210522],\n",
       "       [1.77578225, 0.67989951, 2.5481726 , 1.53584537, 1.69312564]])"
      ]
     },
     "execution_count": 49,
     "metadata": {},
     "output_type": "execute_result"
    }
   ],
   "source": [
    "my_vector1 = np.random.rand(5,8)\n",
    "my_vector2 = np.random.rand(8,5)\n",
    "np.matmul(my_vector1,my_vector2)\n",
    "my_vector1@my_vector2"
   ]
  },
  {
   "cell_type": "code",
   "execution_count": 21,
   "metadata": {},
   "outputs": [
    {
     "ename": "ValueError",
     "evalue": "shapes (5,8) and (5,5) not aligned: 8 (dim 1) != 5 (dim 0)",
     "output_type": "error",
     "traceback": [
      "\u001b[0;31m---------------------------------------------------------------------------\u001b[0m",
      "\u001b[0;31mValueError\u001b[0m                                Traceback (most recent call last)",
      "\u001b[0;32m<ipython-input-21-e1b59924a2f9>\u001b[0m in \u001b[0;36m<module>\u001b[0;34m()\u001b[0m\n\u001b[1;32m      1\u001b[0m \u001b[0mmy_vector1\u001b[0m \u001b[0;34m=\u001b[0m \u001b[0mnp\u001b[0m\u001b[0;34m.\u001b[0m\u001b[0mrandom\u001b[0m\u001b[0;34m.\u001b[0m\u001b[0mrand\u001b[0m\u001b[0;34m(\u001b[0m\u001b[0;36m5\u001b[0m\u001b[0;34m,\u001b[0m\u001b[0;36m8\u001b[0m\u001b[0;34m)\u001b[0m\u001b[0;34m\u001b[0m\u001b[0m\n\u001b[1;32m      2\u001b[0m \u001b[0mmy_vector2\u001b[0m \u001b[0;34m=\u001b[0m \u001b[0mnp\u001b[0m\u001b[0;34m.\u001b[0m\u001b[0mrandom\u001b[0m\u001b[0;34m.\u001b[0m\u001b[0mrand\u001b[0m\u001b[0;34m(\u001b[0m\u001b[0;36m5\u001b[0m\u001b[0;34m,\u001b[0m\u001b[0;36m5\u001b[0m\u001b[0;34m)\u001b[0m\u001b[0;34m\u001b[0m\u001b[0m\n\u001b[0;32m----> 3\u001b[0;31m \u001b[0mnp\u001b[0m\u001b[0;34m.\u001b[0m\u001b[0mmatmul\u001b[0m\u001b[0;34m(\u001b[0m\u001b[0mmy_vector1\u001b[0m\u001b[0;34m,\u001b[0m\u001b[0mmy_vector2\u001b[0m\u001b[0;34m)\u001b[0m\u001b[0;34m\u001b[0m\u001b[0m\n\u001b[0m",
      "\u001b[0;31mValueError\u001b[0m: shapes (5,8) and (5,5) not aligned: 8 (dim 1) != 5 (dim 0)"
     ]
    }
   ],
   "source": [
    "my_vector1 = np.random.rand(5,8)\n",
    "my_vector2 = np.random.rand(5,5)\n",
    "np.matmul(my_vector1,my_vector2)"
   ]
  },
  {
   "cell_type": "code",
   "execution_count": 22,
   "metadata": {},
   "outputs": [
    {
     "data": {
      "text/plain": [
       "matrix([[0.96212527, 0.54004846, 1.07499673, 0.73531597, 1.49910448],\n",
       "        [1.20628398, 0.87283923, 0.81970493, 0.72405108, 1.56233752],\n",
       "        [1.3797648 , 0.97661777, 0.93592107, 0.86641211, 1.7886647 ],\n",
       "        [1.09571832, 0.68701198, 1.16322442, 0.88726717, 1.6936896 ],\n",
       "        [0.62647829, 0.6260471 , 0.46326618, 0.51738003, 0.89432019]])"
      ]
     },
     "execution_count": 22,
     "metadata": {},
     "output_type": "execute_result"
    }
   ],
   "source": [
    "# another option for matrix multiplication\n",
    "my_vector1 = np.matrix(np.random.rand(5,4))\n",
    "my_vector2 = np.matrix(np.random.rand(4,5))\n",
    "my_vector1*my_vector2"
   ]
  },
  {
   "cell_type": "code",
   "execution_count": 23,
   "metadata": {},
   "outputs": [
    {
     "data": {
      "text/plain": [
       "matrix([[0.84509727],\n",
       "        [0.77820177],\n",
       "        [1.05114494],\n",
       "        [1.05467051],\n",
       "        [1.44374193]])"
      ]
     },
     "execution_count": 23,
     "metadata": {},
     "output_type": "execute_result"
    }
   ],
   "source": [
    "my_vector1 = np.matrix(np.random.rand(5,4))\n",
    "my_vector2 = np.matrix(np.random.rand(4,1))\n",
    "my_vector1*my_vector2"
   ]
  },
  {
   "cell_type": "code",
   "execution_count": 24,
   "metadata": {},
   "outputs": [
    {
     "ename": "ValueError",
     "evalue": "shapes (5,4) and (1,4) not aligned: 4 (dim 1) != 1 (dim 0)",
     "output_type": "error",
     "traceback": [
      "\u001b[0;31m---------------------------------------------------------------------------\u001b[0m",
      "\u001b[0;31mValueError\u001b[0m                                Traceback (most recent call last)",
      "\u001b[0;32m<ipython-input-24-18166dd2c80f>\u001b[0m in \u001b[0;36m<module>\u001b[0;34m()\u001b[0m\n\u001b[1;32m      1\u001b[0m \u001b[0mmy_vector1\u001b[0m \u001b[0;34m=\u001b[0m \u001b[0mnp\u001b[0m\u001b[0;34m.\u001b[0m\u001b[0mmatrix\u001b[0m\u001b[0;34m(\u001b[0m\u001b[0mnp\u001b[0m\u001b[0;34m.\u001b[0m\u001b[0mrandom\u001b[0m\u001b[0;34m.\u001b[0m\u001b[0mrand\u001b[0m\u001b[0;34m(\u001b[0m\u001b[0;36m5\u001b[0m\u001b[0;34m,\u001b[0m\u001b[0;36m4\u001b[0m\u001b[0;34m)\u001b[0m\u001b[0;34m)\u001b[0m\u001b[0;34m\u001b[0m\u001b[0m\n\u001b[1;32m      2\u001b[0m \u001b[0mmy_vector2\u001b[0m \u001b[0;34m=\u001b[0m \u001b[0mnp\u001b[0m\u001b[0;34m.\u001b[0m\u001b[0mmatrix\u001b[0m\u001b[0;34m(\u001b[0m\u001b[0mnp\u001b[0m\u001b[0;34m.\u001b[0m\u001b[0mrandom\u001b[0m\u001b[0;34m.\u001b[0m\u001b[0mrand\u001b[0m\u001b[0;34m(\u001b[0m\u001b[0;36m4\u001b[0m\u001b[0;34m)\u001b[0m\u001b[0;34m)\u001b[0m\u001b[0;34m\u001b[0m\u001b[0m\n\u001b[0;32m----> 3\u001b[0;31m \u001b[0mmy_vector1\u001b[0m\u001b[0;34m*\u001b[0m\u001b[0mmy_vector2\u001b[0m\u001b[0;34m\u001b[0m\u001b[0m\n\u001b[0m",
      "\u001b[0;32m/usr/local/lib/python3.6/site-packages/numpy/matrixlib/defmatrix.py\u001b[0m in \u001b[0;36m__mul__\u001b[0;34m(self, other)\u001b[0m\n\u001b[1;32m    307\u001b[0m         \u001b[0;32mif\u001b[0m \u001b[0misinstance\u001b[0m\u001b[0;34m(\u001b[0m\u001b[0mother\u001b[0m\u001b[0;34m,\u001b[0m \u001b[0;34m(\u001b[0m\u001b[0mN\u001b[0m\u001b[0;34m.\u001b[0m\u001b[0mndarray\u001b[0m\u001b[0;34m,\u001b[0m \u001b[0mlist\u001b[0m\u001b[0;34m,\u001b[0m \u001b[0mtuple\u001b[0m\u001b[0;34m)\u001b[0m\u001b[0;34m)\u001b[0m \u001b[0;34m:\u001b[0m\u001b[0;34m\u001b[0m\u001b[0m\n\u001b[1;32m    308\u001b[0m             \u001b[0;31m# This promotes 1-D vectors to row vectors\u001b[0m\u001b[0;34m\u001b[0m\u001b[0;34m\u001b[0m\u001b[0m\n\u001b[0;32m--> 309\u001b[0;31m             \u001b[0;32mreturn\u001b[0m \u001b[0mN\u001b[0m\u001b[0;34m.\u001b[0m\u001b[0mdot\u001b[0m\u001b[0;34m(\u001b[0m\u001b[0mself\u001b[0m\u001b[0;34m,\u001b[0m \u001b[0masmatrix\u001b[0m\u001b[0;34m(\u001b[0m\u001b[0mother\u001b[0m\u001b[0;34m)\u001b[0m\u001b[0;34m)\u001b[0m\u001b[0;34m\u001b[0m\u001b[0m\n\u001b[0m\u001b[1;32m    310\u001b[0m         \u001b[0;32mif\u001b[0m \u001b[0misscalar\u001b[0m\u001b[0;34m(\u001b[0m\u001b[0mother\u001b[0m\u001b[0;34m)\u001b[0m \u001b[0;32mor\u001b[0m \u001b[0;32mnot\u001b[0m \u001b[0mhasattr\u001b[0m\u001b[0;34m(\u001b[0m\u001b[0mother\u001b[0m\u001b[0;34m,\u001b[0m \u001b[0;34m'__rmul__'\u001b[0m\u001b[0;34m)\u001b[0m \u001b[0;34m:\u001b[0m\u001b[0;34m\u001b[0m\u001b[0m\n\u001b[1;32m    311\u001b[0m             \u001b[0;32mreturn\u001b[0m \u001b[0mN\u001b[0m\u001b[0;34m.\u001b[0m\u001b[0mdot\u001b[0m\u001b[0;34m(\u001b[0m\u001b[0mself\u001b[0m\u001b[0;34m,\u001b[0m \u001b[0mother\u001b[0m\u001b[0;34m)\u001b[0m\u001b[0;34m\u001b[0m\u001b[0m\n",
      "\u001b[0;31mValueError\u001b[0m: shapes (5,4) and (1,4) not aligned: 4 (dim 1) != 1 (dim 0)"
     ]
    }
   ],
   "source": [
    "my_vector1 = np.matrix(np.random.rand(5,4))\n",
    "my_vector2 = np.matrix(np.random.rand(4))\n",
    "my_vector1*my_vector2"
   ]
  },
  {
   "cell_type": "code",
   "execution_count": 25,
   "metadata": {},
   "outputs": [
    {
     "data": {
      "text/plain": [
       "0.40845719428333505"
      ]
     },
     "execution_count": 25,
     "metadata": {},
     "output_type": "execute_result"
    }
   ],
   "source": [
    "# matrix norms \n",
    "from numpy import linalg as la\n",
    "my_mat = np.matrix(np.random.rand(5,4))\n",
    "la.norm(my_mat, 'fro')\n",
    "la.norm(my_mat, 'nuc')\n",
    "la.norm(my_mat, np.inf)\n",
    "la.norm(my_mat, -np.inf)\n",
    "la.norm(my_mat, 2)\n",
    "la.norm(my_mat, -2)"
   ]
  },
  {
   "cell_type": "code",
   "execution_count": 26,
   "metadata": {},
   "outputs": [
    {
     "data": {
      "text/plain": [
       "matrix([[ 0.38346411],\n",
       "        [-1.19397763],\n",
       "        [ 1.10740452],\n",
       "        [ 0.71691721],\n",
       "        [-0.85240031]])"
      ]
     },
     "execution_count": 26,
     "metadata": {},
     "output_type": "execute_result"
    }
   ],
   "source": [
    "# solving a linear system\n",
    "A = np.matrix(np.random.rand(5,5))\n",
    "b = np.matrix(np.random.rand(5,1))\n",
    "la.solve(A, b)"
   ]
  },
  {
   "cell_type": "code",
   "execution_count": 27,
   "metadata": {},
   "outputs": [
    {
     "data": {
      "text/plain": [
       "array([[-4.65689537],\n",
       "       [10.25557524],\n",
       "       [-5.36585959],\n",
       "       [12.01475706],\n",
       "       [ 1.47692492]])"
      ]
     },
     "execution_count": 27,
     "metadata": {},
     "output_type": "execute_result"
    }
   ],
   "source": [
    "import scipy.linalg as sla\n",
    "# solving a linear system (LU)\n",
    "A = np.matrix(np.random.rand(5,5))\n",
    "b = np.matrix(np.random.rand(5,1))\n",
    "P, L, U = sla.lu(A)\n",
    "# LU x = Pb\n",
    "Pb = P*b\n",
    "# Ux = y\n",
    "y = sla.solve(U, Pb)\n",
    "x = sla.solve(L, y)\n",
    "x"
   ]
  },
  {
   "cell_type": "code",
   "execution_count": 28,
   "metadata": {},
   "outputs": [
    {
     "data": {
      "text/plain": [
       "array([[ 5.02358174],\n",
       "       [15.35235538],\n",
       "       [-3.77580459],\n",
       "       [-3.53404855],\n",
       "       [-8.94513033]])"
      ]
     },
     "execution_count": 28,
     "metadata": {},
     "output_type": "execute_result"
    }
   ],
   "source": [
    "# solving a linear system (QR)\n",
    "A = np.matrix(np.random.rand(5,5))\n",
    "b = np.matrix(np.random.rand(5,1))\n",
    "Q, R = sla.qr(A)\n",
    "# Rx = y\n",
    "y = sla.solve(R, b)\n",
    "x = sla.solve(Q, y)\n",
    "x"
   ]
  },
  {
   "cell_type": "code",
   "execution_count": 29,
   "metadata": {},
   "outputs": [
    {
     "data": {
      "text/plain": [
       "-0.07329371806456206"
      ]
     },
     "execution_count": 29,
     "metadata": {},
     "output_type": "execute_result"
    }
   ],
   "source": [
    "# finding a determinant\n",
    "A = np.matrix(np.random.rand(5,5))\n",
    "la.det(A)"
   ]
  },
  {
   "cell_type": "code",
   "execution_count": 30,
   "metadata": {},
   "outputs": [
    {
     "ename": "LinAlgError",
     "evalue": "Last 2 dimensions of the array must be square",
     "output_type": "error",
     "traceback": [
      "\u001b[0;31m---------------------------------------------------------------------------\u001b[0m",
      "\u001b[0;31mLinAlgError\u001b[0m                               Traceback (most recent call last)",
      "\u001b[0;32m<ipython-input-30-ce015e43a99e>\u001b[0m in \u001b[0;36m<module>\u001b[0;34m()\u001b[0m\n\u001b[1;32m      1\u001b[0m \u001b[0mA\u001b[0m \u001b[0;34m=\u001b[0m \u001b[0mnp\u001b[0m\u001b[0;34m.\u001b[0m\u001b[0mmatrix\u001b[0m\u001b[0;34m(\u001b[0m\u001b[0mnp\u001b[0m\u001b[0;34m.\u001b[0m\u001b[0mrandom\u001b[0m\u001b[0;34m.\u001b[0m\u001b[0mrand\u001b[0m\u001b[0;34m(\u001b[0m\u001b[0;36m5\u001b[0m\u001b[0;34m,\u001b[0m\u001b[0;36m2\u001b[0m\u001b[0;34m)\u001b[0m\u001b[0;34m)\u001b[0m\u001b[0;34m\u001b[0m\u001b[0m\n\u001b[0;32m----> 2\u001b[0;31m \u001b[0mla\u001b[0m\u001b[0;34m.\u001b[0m\u001b[0mdet\u001b[0m\u001b[0;34m(\u001b[0m\u001b[0mA\u001b[0m\u001b[0;34m)\u001b[0m\u001b[0;34m\u001b[0m\u001b[0m\n\u001b[0m",
      "\u001b[0;32m/usr/local/lib/python3.6/site-packages/numpy/linalg/linalg.py\u001b[0m in \u001b[0;36mdet\u001b[0;34m(a)\u001b[0m\n\u001b[1;32m   1869\u001b[0m     \u001b[0ma\u001b[0m \u001b[0;34m=\u001b[0m \u001b[0masarray\u001b[0m\u001b[0;34m(\u001b[0m\u001b[0ma\u001b[0m\u001b[0;34m)\u001b[0m\u001b[0;34m\u001b[0m\u001b[0m\n\u001b[1;32m   1870\u001b[0m     \u001b[0m_assertRankAtLeast2\u001b[0m\u001b[0;34m(\u001b[0m\u001b[0ma\u001b[0m\u001b[0;34m)\u001b[0m\u001b[0;34m\u001b[0m\u001b[0m\n\u001b[0;32m-> 1871\u001b[0;31m     \u001b[0m_assertNdSquareness\u001b[0m\u001b[0;34m(\u001b[0m\u001b[0ma\u001b[0m\u001b[0;34m)\u001b[0m\u001b[0;34m\u001b[0m\u001b[0m\n\u001b[0m\u001b[1;32m   1872\u001b[0m     \u001b[0mt\u001b[0m\u001b[0;34m,\u001b[0m \u001b[0mresult_t\u001b[0m \u001b[0;34m=\u001b[0m \u001b[0m_commonType\u001b[0m\u001b[0;34m(\u001b[0m\u001b[0ma\u001b[0m\u001b[0;34m)\u001b[0m\u001b[0;34m\u001b[0m\u001b[0m\n\u001b[1;32m   1873\u001b[0m     \u001b[0msignature\u001b[0m \u001b[0;34m=\u001b[0m \u001b[0;34m'D->D'\u001b[0m \u001b[0;32mif\u001b[0m \u001b[0misComplexType\u001b[0m\u001b[0;34m(\u001b[0m\u001b[0mt\u001b[0m\u001b[0;34m)\u001b[0m \u001b[0;32melse\u001b[0m \u001b[0;34m'd->d'\u001b[0m\u001b[0;34m\u001b[0m\u001b[0m\n",
      "\u001b[0;32m/usr/local/lib/python3.6/site-packages/numpy/linalg/linalg.py\u001b[0m in \u001b[0;36m_assertNdSquareness\u001b[0;34m(*arrays)\u001b[0m\n\u001b[1;32m    209\u001b[0m     \u001b[0;32mfor\u001b[0m \u001b[0ma\u001b[0m \u001b[0;32min\u001b[0m \u001b[0marrays\u001b[0m\u001b[0;34m:\u001b[0m\u001b[0;34m\u001b[0m\u001b[0m\n\u001b[1;32m    210\u001b[0m         \u001b[0;32mif\u001b[0m \u001b[0mmax\u001b[0m\u001b[0;34m(\u001b[0m\u001b[0ma\u001b[0m\u001b[0;34m.\u001b[0m\u001b[0mshape\u001b[0m\u001b[0;34m[\u001b[0m\u001b[0;34m-\u001b[0m\u001b[0;36m2\u001b[0m\u001b[0;34m:\u001b[0m\u001b[0;34m]\u001b[0m\u001b[0;34m)\u001b[0m \u001b[0;34m!=\u001b[0m \u001b[0mmin\u001b[0m\u001b[0;34m(\u001b[0m\u001b[0ma\u001b[0m\u001b[0;34m.\u001b[0m\u001b[0mshape\u001b[0m\u001b[0;34m[\u001b[0m\u001b[0;34m-\u001b[0m\u001b[0;36m2\u001b[0m\u001b[0;34m:\u001b[0m\u001b[0;34m]\u001b[0m\u001b[0;34m)\u001b[0m\u001b[0;34m:\u001b[0m\u001b[0;34m\u001b[0m\u001b[0m\n\u001b[0;32m--> 211\u001b[0;31m             \u001b[0;32mraise\u001b[0m \u001b[0mLinAlgError\u001b[0m\u001b[0;34m(\u001b[0m\u001b[0;34m'Last 2 dimensions of the array must be square'\u001b[0m\u001b[0;34m)\u001b[0m\u001b[0;34m\u001b[0m\u001b[0m\n\u001b[0m\u001b[1;32m    212\u001b[0m \u001b[0;34m\u001b[0m\u001b[0m\n\u001b[1;32m    213\u001b[0m \u001b[0;32mdef\u001b[0m \u001b[0m_assertFinite\u001b[0m\u001b[0;34m(\u001b[0m\u001b[0;34m*\u001b[0m\u001b[0marrays\u001b[0m\u001b[0;34m)\u001b[0m\u001b[0;34m:\u001b[0m\u001b[0;34m\u001b[0m\u001b[0m\n",
      "\u001b[0;31mLinAlgError\u001b[0m: Last 2 dimensions of the array must be square"
     ]
    }
   ],
   "source": [
    "A = np.matrix(np.random.rand(5,2))\n",
    "la.det(A)"
   ]
  },
  {
   "cell_type": "code",
   "execution_count": 31,
   "metadata": {},
   "outputs": [
    {
     "data": {
      "text/plain": [
       "matrix([[ 0.93441853],\n",
       "        [-0.34910507],\n",
       "        [-0.05872539]])"
      ]
     },
     "execution_count": 31,
     "metadata": {},
     "output_type": "execute_result"
    }
   ],
   "source": [
    "# solving least squares normal equations\n",
    "A = np.matrix(np.random.rand(10,3))\n",
    "b = np.matrix(np.random.rand(10,1))\n",
    "# Ax = b -> x = (A^tA)^-1A^tb \n",
    "la.solve(A.transpose(1,0)*A, A.transpose(1,0)*b)"
   ]
  },
  {
   "cell_type": "code",
   "execution_count": 32,
   "metadata": {},
   "outputs": [
    {
     "data": {
      "text/plain": [
       "matrix([[-0.06593095],\n",
       "        [ 0.94587937],\n",
       "        [-0.3226476 ]])"
      ]
     },
     "execution_count": 32,
     "metadata": {},
     "output_type": "execute_result"
    }
   ],
   "source": [
    "# solving least squares QR\n",
    "A = np.matrix(np.random.rand(10,3))\n",
    "b = np.matrix(np.random.rand(10,1))\n",
    "Q, R = la.qr(A) # doesnt work with sla\n",
    "# QRx = b -> x = R^-1Q^*b \n",
    "la.solve(R, Q.transpose(1,0)*b)"
   ]
  },
  {
   "cell_type": "code",
   "execution_count": 34,
   "metadata": {},
   "outputs": [
    {
     "data": {
      "text/plain": [
       "matrix([[-0.06593095],\n",
       "        [ 0.94587937],\n",
       "        [-0.3226476 ]])"
      ]
     },
     "execution_count": 34,
     "metadata": {},
     "output_type": "execute_result"
    }
   ],
   "source": [
    "# solving least squares SVD\n",
    "# A = U S V\n",
    "# |Ax-b| = |U^t (Ax - b)| = |SVx - U^t b| = |Sz - U^t b|  -->  S^t S x = S^t U^t b  --> x = (S^t S)^-1 S^t U^t b\n",
    "u, s, vh = la.svd(A)\n",
    "S = np.matrix(np.append(np.diag(s), np.zeros((7,3)), axis=0))\n",
    "vh.transpose() * np.diag(np.power(1/s, 2)) * S.transpose() * u.transpose() * b"
   ]
  },
  {
   "cell_type": "code",
   "execution_count": 35,
   "metadata": {},
   "outputs": [
    {
     "data": {
      "text/plain": [
       "matrix([[ 1.39552259,  0.        ,  0.        ,  0.        ],\n",
       "        [ 1.09873183,  0.28750424,  0.        ,  0.        ],\n",
       "        [ 0.77020127, -0.06411634,  0.3419806 ,  0.        ],\n",
       "        [ 1.22029294, -0.5171254 , -0.03719984,  0.22011595]])"
      ]
     },
     "execution_count": 35,
     "metadata": {},
     "output_type": "execute_result"
    }
   ],
   "source": [
    "# finding eigen values cholesky decomposition\n",
    "A = np.matrix(np.random.rand(4,4))\n",
    "A = A*np.transpose(A) \n",
    "L = la.cholesky(A)\n",
    "L"
   ]
  },
  {
   "cell_type": "code",
   "execution_count": 36,
   "metadata": {},
   "outputs": [
    {
     "data": {
      "text/plain": [
       "array([1.94748331, 0.08265869, 0.11695073, 0.04845103])"
      ]
     },
     "execution_count": 36,
     "metadata": {},
     "output_type": "execute_result"
    }
   ],
   "source": [
    "# eigen decomposition LL' = A -> ED*D'E' -> eigs = D.^2\n",
    "np.diag(L)*np.diag(L)"
   ]
  },
  {
   "cell_type": "code",
   "execution_count": 37,
   "metadata": {},
   "outputs": [
    {
     "name": "stdout",
     "output_type": "stream",
     "text": [
      "[[ 3.92614877e+00  5.58035261e-16 -5.20842787e-16 -8.46551193e-17]\n",
      " [ 0.00000000e+00  4.56792847e-01  3.27329520e-16  4.39533242e-17]\n",
      " [ 0.00000000e+00  0.00000000e+00  6.43032027e-02 -8.14866214e-17]\n",
      " [ 0.00000000e+00  0.00000000e+00  0.00000000e+00  2.93064536e-03]]\n",
      "[3.92614877e+00 4.56792847e-01 6.43032027e-02 2.93064536e-03]\n"
     ]
    }
   ],
   "source": [
    "# finding eigen values QR algorithm (this ones wierd!)\n",
    "A = np.matrix(np.random.rand(4,4))\n",
    "A = np.transpose(A)*A\n",
    "A_iter = A\n",
    "Q, R = la.qr(A)\n",
    "for i in range(10**4):\n",
    "    A_iter = R*Q\n",
    "    Q, R = la.qr(A_iter)\n",
    "print(np.transpose(Q)*A_iter)\n",
    "print(la.eig(A)[0])"
   ]
  },
  {
   "cell_type": "code",
   "execution_count": 38,
   "metadata": {},
   "outputs": [
    {
     "name": "stdout",
     "output_type": "stream",
     "text": [
      "8.96220532349882\n",
      "[8.96220532 0.88832232 0.25237698 0.07042439 0.01789452]\n"
     ]
    }
   ],
   "source": [
    "# finding eigen vectors power method\n",
    "A = np.matrix(np.random.rand(5,5))\n",
    "A = A*np.transpose(A)\n",
    "x = np.matrix(np.random.rand(5,1))\n",
    "for i in range(10**3):\n",
    "    x = A*x/la.norm(A*x)\n",
    "Ax = A*x\n",
    "print(Ax[0,0]/x[0,0])\n",
    "print(la.eig(A)[0])"
   ]
  },
  {
   "cell_type": "code",
   "execution_count": 39,
   "metadata": {},
   "outputs": [
    {
     "name": "stdout",
     "output_type": "stream",
     "text": [
      "0.01503563176988163\n",
      "0.6088287404373588\n"
     ]
    }
   ],
   "source": [
    "# finding eigen vectors inverse power method\n",
    "A = np.matrix(np.random.rand(5,5))\n",
    "A = A*np.transpose(A)\n",
    "x = np.matrix(np.random.rand(5,1))\n",
    "# pick an eigen value\n",
    "eig3 = la.eig(A)[0][3]\n",
    "for i in range(10**4):\n",
    "    x = la.solve(A,x)/la.norm(la.solve(A,x))\n",
    "Ax = A*x\n",
    "print(Ax[0,0]/x[0,0])\n",
    "print(eig3)"
   ]
  },
  {
   "cell_type": "code",
   "execution_count": 40,
   "metadata": {},
   "outputs": [
    {
     "name": "stdout",
     "output_type": "stream",
     "text": [
      "0.0024105127157018486\n",
      "0.0024105127157017497\n"
     ]
    }
   ],
   "source": [
    "# finding eigen vectors shifted inverse power method\n",
    "A = np.matrix(np.random.rand(5,5))\n",
    "A = A*np.transpose(A)\n",
    "x = np.matrix(np.random.rand(5,1))\n",
    "# pick an eigen value\n",
    "eig3 = la.eig(A)[0][3]\n",
    "for i in range(10**4):\n",
    "    x = la.solve(A-eig3*np.eye(5),x)/la.norm(la.solve(A-eig3*np.eye(5),x))\n",
    "Ax = A*x\n",
    "print(Ax[0,0]/x[0,0])\n",
    "print(eig3)"
   ]
  },
  {
   "cell_type": "code",
   "execution_count": 42,
   "metadata": {},
   "outputs": [
    {
     "data": {
      "image/png": "[encoded data removed]",
      "text/plain": [
       "<Figure size 432x288 with 1 Axes>"
      ]
     },
     "metadata": {},
     "output_type": "display_data"
    }
   ],
   "source": [
    "import matplotlib.pyplot as plt\n",
    "# plotting stuff\n",
    "plt.plot([1, 2, 3, 4])\n",
    "plt.ylabel('some numbers')\n",
    "plt.show()"
   ]
  },
  {
   "cell_type": "code",
   "execution_count": 43,
   "metadata": {},
   "outputs": [
    {
     "data": {
      "image/png": "[encoded data removed]",
      "text/plain": [
       "<Figure size 432x288 with 1 Axes>"
      ]
     },
     "metadata": {},
     "output_type": "display_data"
    }
   ],
   "source": [
    "plt.plot([1, 2, 3, 4], [1, 4, 9, 16])\n",
    "plt.ylabel('some numbers')\n",
    "plt.show()"
   ]
  },
  {
   "cell_type": "code",
   "execution_count": 44,
   "metadata": {},
   "outputs": [
    {
     "name": "stdout",
     "output_type": "stream",
     "text": [
      "[[ 1. ]\n",
      " [ 2. ]\n",
      " [-0.5]\n",
      " [ 1.5]]\n"
     ]
    },
    {
     "data": {
      "image/png": "[encoded data removed]",
      "text/plain": [
       "<Figure size 432x288 with 1 Axes>"
      ]
     },
     "metadata": {},
     "output_type": "display_data"
    }
   ],
   "source": [
    "# function interpolation by solving polynomial basis vandermonde\n",
    "# 1 x x^2 x^3 ...\n",
    "x = np.linspace(0,1,10)\n",
    "y = 1.5*x**3 + 1 - 0.5*x**2 + 2*x\n",
    "N = 4\n",
    "V = np.array([[x_i**i for i in range(0,4)] for x_i in x])\n",
    "y = np.transpose(np.matrix(y))\n",
    "# lets get the coefficients V b = y \n",
    "b = la.solve(np.matmul(np.transpose(V),V), np.transpose(V)*y)\n",
    "f = lambda x: b[0,0] + b[1,0]*x + b[2,0]*x**2 + b[3,0]*x**3\n",
    "y_hat = np.array([f(x_i) for x_i in x])\n",
    "# lets see\n",
    "plt.plot(x,y)\n",
    "plt.plot(x,y_hat)\n",
    "print(b)"
   ]
  },
  {
   "cell_type": "code",
   "execution_count": 45,
   "metadata": {},
   "outputs": [
    {
     "name": "stdout",
     "output_type": "stream",
     "text": [
      "[[  0.94049688]\n",
      " [  4.06797744]\n",
      " [-10.0308642 ]\n",
      " [ 13.95679012]]\n"
     ]
    },
    {
     "data": {
      "image/png": "[encoded data removed]",
      "text/plain": [
       "<Figure size 432x288 with 1 Axes>"
      ]
     },
     "metadata": {},
     "output_type": "display_data"
    }
   ],
   "source": [
    "# function interpolation by solving polynomial basis vandermonde\n",
    "# 1 x x^2 x^3 ...\n",
    "x = np.linspace(0,1,10)\n",
    "y = 3*x**5+2*x**4+1.5*x**3 + 1 - 0.5*x**2 + 2*x\n",
    "N = 4\n",
    "V = np.array([[x_i**i for i in range(0,4)] for x_i in x])\n",
    "y = np.transpose(np.matrix(y))\n",
    "# lets get the coefficients V b = y \n",
    "b = la.solve(np.matmul(np.transpose(V),V), np.transpose(V)*y)\n",
    "f = lambda x: b[0,0] + b[1,0]*x + b[2,0]*x**2 + b[3,0]*x**3\n",
    "y_hat = np.array([f(x_i) for x_i in x])\n",
    "# lets see\n",
    "plt.plot(x,y)\n",
    "plt.plot(x,y_hat)\n",
    "print(b)"
   ]
  },
  {
   "cell_type": "code",
   "execution_count": 46,
   "metadata": {},
   "outputs": [
    {
     "name": "stdout",
     "output_type": "stream",
     "text": [
      "[[ 1.42295382]\n",
      " [-3.8753315 ]\n",
      " [10.90432099]]\n"
     ]
    },
    {
     "data": {
      "image/png": "[encoded data removed]",
      "text/plain": [
       "<Figure size 432x288 with 1 Axes>"
      ]
     },
     "metadata": {},
     "output_type": "display_data"
    }
   ],
   "source": [
    "# function interpolation by solving polynomial basis vandermonde\n",
    "# 1 x x^2 x^3 ...\n",
    "x = np.linspace(0,1,10)\n",
    "y = 3*x**5+2*x**4+1.5*x**3 + 1 - 0.5*x**2 + 2*x\n",
    "N = 3\n",
    "V = np.array([[x_i**i for i in range(0,3)] for x_i in x])\n",
    "y = np.transpose(np.matrix(y))\n",
    "# lets get the coefficients V b = y \n",
    "b = la.solve(np.matmul(np.transpose(V),V), np.transpose(V)*y)\n",
    "f = lambda x: b[0,0] + b[1,0]*x + b[2,0]*x**2\n",
    "y_hat = np.array([f(x_i) for x_i in x])\n",
    "# lets see\n",
    "plt.plot(x,y)\n",
    "plt.plot(x,y_hat)\n",
    "print(b)"
   ]
  },
  {
   "cell_type": "code",
   "execution_count": 47,
   "metadata": {},
   "outputs": [
    {
     "data": {
      "text/plain": [
       "[<matplotlib.lines.Line2D at 0x1146384e0>]"
      ]
     },
     "execution_count": 47,
     "metadata": {},
     "output_type": "execute_result"
    },
    {
     "data": {
      "image/png": "[encoded data removed]",
      "text/plain": [
       "<Figure size 432x288 with 1 Axes>"
      ]
     },
     "metadata": {},
     "output_type": "display_data"
    }
   ],
   "source": [
    "# function interpolation by solving exponential basis vandermonde\n",
    "# 1 x x^2 x^3 ...\n",
    "x = np.linspace(0,1,10)\n",
    "y = 1.5*x**3 + 1 - 0.5*x**2 + 2*x\n",
    "N = 4\n",
    "V = np.array([[np.exp(x_i)**i for i in range(0,4)] for x_i in x]) # change made here\n",
    "y = np.transpose(np.matrix(y))\n",
    "# lets get the coefficients V b = y \n",
    "b = la.solve(np.matmul(np.transpose(V),V), np.transpose(V)*y)\n",
    "f = lambda x: b[0,0] + b[1,0]*np.exp(x) + b[2,0]*np.exp(x)**2 + b[3,0]*np.exp(x)**3 # change made here\n",
    "y_hat = np.array([f(x_i) for x_i in x])\n",
    "plt.plot(x,y)\n",
    "plt.plot(x,y_hat)"
   ]
  },
  {
   "cell_type": "code",
   "execution_count": 48,
   "metadata": {},
   "outputs": [
    {
     "name": "stdout",
     "output_type": "stream",
     "text": [
      "1315.566624409681\n",
      "98.86773850722757\n"
     ]
    }
   ],
   "source": [
    "# numerical stability point\n",
    "x = np.linspace(0,1,4)\n",
    "y = 1.5*x**3 + 1 - 0.5*x**2 + 2*x\n",
    "V_n = np.array([[np.exp(x_i)**i for i in range(0,4)] for x_i in x]) # change made here\n",
    "V_e = np.array([[x_i**i for i in range(0,4)] for x_i in x])\n",
    "# look at the condition number\n",
    "print(la.norm(la.inv(V_n),2)*la.norm(V_n,2))\n",
    "print(la.norm(la.inv(V_e),2)*la.norm(V_e,2))"
   ]
  }
 ],
 "metadata": {
  "kernelspec": {
   "display_name": "Python 3",
   "language": "python",
   "name": "python3"
  },
  "language_info": {
   "codemirror_mode": {
    "name": "ipython",
    "version": 3
   },
   "file_extension": ".py",
   "mimetype": "text/x-python",
   "name": "python",
   "nbconvert_exporter": "python",
   "pygments_lexer": "ipython3",
   "version": "3.6.5"
  }
 },
 "nbformat": 4,
 "nbformat_minor": 2
}
