{
 "cells": [
  {
   "cell_type": "markdown",
   "metadata": {},
   "source": [
    "# Generalized Advantage Estimation"
   ]
  },
  {
   "cell_type": "markdown",
   "metadata": {},
   "source": [
    "In this post we will look at how we might be able to reduce the variance of the gradient estimate given by the max\n",
    "entropy policy gradient cost function that we set up last time. The first place we will start is with the baseline \n",
    "function which acts to force the expected value of each of the gradient estimates to zero. This works as a result of \n",
    "some neat algebra, the REINFORCE trick, and the fact that the expected value of the score function is zero. For \n",
    "more information on this derivation, take a look at: https://lilianweng.github.io/lil-log/2018/04/08/policy-gradient-algorithms.html. The code below is all the stuff from the previous post so that I can just run it here! "
   ]
  },
  {
   "cell_type": "code",
   "execution_count": 431,
   "metadata": {},
   "outputs": [],
   "source": [
    "%run running_codebase.ipynb"
   ]
  },
  {
   "cell_type": "markdown",
   "metadata": {},
   "source": [
    "## Value Function Approximation (Nonlinear or Linear Regression)\n",
    "The first thing that we need to do is approximate the value function which will be used in our approximation of the bsaeline. The value function will be a function of a given state at time t, and should represent the averaged value at that state. In order to perform nonlinear regression, we could create a baseline model class which consists of a nueral network with a few hidden layers, however because we are performing optimization multiple times throughout training, it will be much easier to just use linear regression."
   ]
  },
  {
   "cell_type": "code",
   "execution_count": null,
   "metadata": {},
   "outputs": [],
   "source": [
    "class BaselineModel(nn.Module):\n",
    "\n",
    "    \"\"\" baseline make the score equal to zero (i.e. be equal to negative of sum of rewards) \"\"\"\n",
    "    \"\"\" takes in state and spits out approximation of negative of sum of rewards given your in that state\"\"\"\n",
    "    \"\"\" use a linear regression becuase its fast \"\"\"\n",
    "\n",
    "    def __init__(self, input_dim, output_dim):\n",
    "        super(BaselineModel, self).__init__()\n",
    "        # Calling Super Class's constructor\n",
    "        self.linear1 = nn.Linear(input_dim, output_dim)\n",
    "\n",
    "    def forward(self, x):\n",
    "        # Here the forward pass is simply a linear function\n",
    "        out = self.linear1(x)\n",
    "        return out\n"
   ]
  },
  {
   "cell_type": "markdown",
   "metadata": {},
   "source": [
    "## Value Function Approximation Optimization\n",
    "Now we have to train this value function based upon the definition provided in https://arxiv.org/pdf/1506.02438.pdf, which is effectively the expected, discounted, cumulative reward at a given state (basically cumulative_rollout value calculated in the advantage function). The first thing we can do is just directly minimize the value function approximation and the sampled cumulative rewards at a given state from the previous iteration. To do this we wont need to define a special loss function, but can simply call MSE loss function form pytorch."
   ]
  },
  {
   "cell_type": "code",
   "execution_count": 396,
   "metadata": {},
   "outputs": [],
   "source": [
    "from torch.autograd import Variable\n",
    "import numpy as np\n",
    "\n",
    "def train_value_function(states, exp_cumu_rewards, state_size = 2, value_function = None):\n",
    "    \n",
    "    # initialize value function\n",
    "    if value_function:\n",
    "        pass\n",
    "    else:\n",
    "        value_function = BaselineModel(state_size, 1)\n",
    "    \n",
    "    # set max iterations for training\n",
    "    epochs = 10**3\n",
    "    \n",
    "    # train to approximate average reward at state\n",
    "    criterion = nn.MSELoss()\n",
    "    \n",
    "    # define optimizer and learning rate\n",
    "    l_rate = 0.1\n",
    "    optimizer = torch.optim.Adam(value_function.parameters(), lr = l_rate)\n",
    "    #optimizer = torch.optim.LBFGS(value_function.parameters(), lr=l_rate)\n",
    "    \n",
    "    # set variables for pytorch\n",
    "    states = Variable(states)\n",
    "    exp_cumu_rewards = Variable(exp_cumu_rewards)\n",
    "    \n",
    "    # train value function model\n",
    "    for epoch in range(epochs):\n",
    "        \n",
    "        # get predictions\n",
    "        pred_cumu_rewards = torch.zeros([len(exp_cumu_rewards)])\n",
    "        for sample in range(exp_cumu_rewards.size()[0]):\n",
    "            pred_cumu_rewards[sample] = value_function(states[sample, :])\n",
    "        \n",
    "        # zero out variable gradients\n",
    "        optimizer.zero_grad()\n",
    "      \n",
    "        # create computation graph for loss\n",
    "        loss = criterion(pred_cumu_rewards, exp_cumu_rewards)\n",
    "\n",
    "        # apply back prop\n",
    "        loss.backward() \n",
    "        \n",
    "        # update the parameters\n",
    "        optimizer.step() \n",
    "        \n",
    "#         # print info\n",
    "#         if epoch%100==0:\n",
    "#             print(np.floor(100*epoch/epochs), \"% percent complete\", \", current loss\", loss, end='\\r',flush=False)\n",
    "    \n",
    "    # return\n",
    "    return value_function"
   ]
  },
  {
   "cell_type": "markdown",
   "metadata": {},
   "source": [
    "## Computing the Generalized Advantage Function\n",
    "Now that we have an approximation of the value function at a given state, we can create the generalized advantage estimator (GAE) which will be a function of the discount factor of the markov chain, as well as a bias variance trade off parameter defined in https://arxiv.org/pdf/1506.02438.pdf. The bais variance trade off parameter allows us to better tune the model based on how noisy the approximation of the gradient is, at the cost of a biased approximation. The calculation of this quantity is done dynamically so we dont have wasted computation, I do include an unneccsary intermediate quantity delta_t to make sure that the connection to the formula from the paper is more explicite. I also include a generate value function so that we can keep retain the current current value function as an object of the POLICY_GRADIENT_LOSS class. Additionally, due to computational, and stability constraints, I only train the value function every couple iterations to ensure that the method runs quickly and the baseline does not drastically effect the solution perceived by the agent. That is to say, if the agent gets into a poor set of trajectories, and we set the baseline at those, it will basically have very low standards andmay get stuck in a poor local minimum. If we update our loss function to include the approximation of the value function, as well as the new definition of the advantage, we have: "
   ]
  },
  {
   "cell_type": "code",
   "execution_count": 432,
   "metadata": {},
   "outputs": [],
   "source": [
    "def train_policy(epochs, grid, samples, T, discount, bv_tradeoff, alpha, sd, VF_freq):\n",
    "\n",
    "    # initialize policy\n",
    "    policy_obj = POLICY(2, 5)\n",
    "    \n",
    "    # set optimization info\n",
    "    optimizer = torch.optim.Adam(policy_obj.parameters(), lr=1e-2)\n",
    "    loss_func = POLICY_GRADIENT_LOSS(alpha, discount, bv_tradeoff, sd,  T, samples)\n",
    "    \n",
    "    # plotting storage (loss and cumulative reward)\n",
    "    loss_per_iteration = torch.zeros((epochs))\n",
    "    cr_per_iteration = torch.zeros((epochs))\n",
    "    \n",
    "    # train model\n",
    "    for epoch in range(epochs):\n",
    "        \n",
    "        # set the probability of picking a random move\n",
    "        randomness = (10 + epoch)/(1+epoch)**2\n",
    "        \n",
    "        # set policy\n",
    "        policy = lambda state: policy_obj.sample_action(state, randomness)\n",
    "        log_prob = lambda state, action: policy_obj.logprob_action(state, action)\n",
    "        \n",
    "        # get sampled trajectories\n",
    "        state_tensor, action_tensor, reward_tensor = grid.simulate_trajectory(T, samples, policy)\n",
    "        \n",
    "        # loss objective being minimized\n",
    "        if epoch%VF_freq==0:\n",
    "            loss, value_function = loss_func(log_prob, state_tensor, action_tensor, reward_tensor)\n",
    "        else:\n",
    "            loss, _ = loss_func(log_prob, state_tensor, action_tensor, reward_tensor, value_function)\n",
    "            \n",
    "        # zero the parameter gradients\n",
    "        optimizer.zero_grad()\n",
    "        \n",
    "        # backprop through computation graph\n",
    "        loss.backward()\n",
    "        \n",
    "        # step optimizer\n",
    "        optimizer.step()\n",
    "        \n",
    "        # print loss\n",
    "        print(\"current loss at iteration: \" + str(epoch/epochs) + \", with loss: \" + str(loss) + \", ends in state: \" + str(state_tensor[:,-1,0]), end='\\r', flush=False)\n",
    "        \n",
    "        # store loss\n",
    "        loss_per_iteration[epoch] = loss\n",
    "        cr_per_iteration[epoch] = sum(sum(reward_tensor))/samples\n",
    "        \n",
    "    # print a trajectory\n",
    "    state_tensor, action_tensor, reward_tensor = grid.simulate_trajectory(T, samples, policy)\n",
    "    for time in range(50):\n",
    "        print(state_tensor[:,time,0], reward_tensor[time,0], action_tensor[time,0], end='\\r')\n",
    "\n",
    "    # return policy\n",
    "    return policy, loss_per_iteration, cr_per_iteration"
   ]
  },
  {
   "cell_type": "code",
   "execution_count": 433,
   "metadata": {},
   "outputs": [],
   "source": [
    "class POLICY_GRADIENT_LOSS(torch.nn.Module):\n",
    "    \"\"\" MAXIMUM ENTROPY POLICY GRADIENTS LOSS FUNCTION \"\"\"\n",
    "    def __init__(self, alpha, discount, bv_tradeoff, sd, trajectory_length, simulations):\n",
    "        super(POLICY_GRADIENT_LOSS, self).__init__()\n",
    "        self.sd = sd\n",
    "        self.alpha = alpha\n",
    "        self.discount = discount\n",
    "        self.trajectory_length = trajectory_length\n",
    "        self.simulations = simulations\n",
    "        self.bv_tradeoff = bv_tradeoff\n",
    "        self.value_function = None\n",
    "        \n",
    "    def generate_value_function(self, sampled_values, sampled_states):\n",
    "        \"\"\" TRAIN VALUE FUNCTION \"\"\"\n",
    "        state_size = len(sampled_states[0,:])\n",
    "        if self.value_function == None:\n",
    "            self.value_function = train_value_function(sampled_states, sampled_values, state_size)\n",
    "            return self.value_function\n",
    "        else:\n",
    "            self.value_function = train_value_function(sampled_states, sampled_values, state_size, self.value_function)\n",
    "            return self.value_function\n",
    "        \n",
    "    def Advantage_estimator(self, logliklihood_tensor, trajectories_state_tensor, \\\n",
    "                            trajectories_action_tensor, trajectories_reward_tensor, \\\n",
    "                            value_function):\n",
    "        \"\"\" COMPUTES ROLL OUT WITH MAX ENT REGULARIZATION \"\"\"\n",
    "        # initialize cumulative running average for states ahead\n",
    "        advantage = torch.zeros([self.trajectory_length, self.simulations])\n",
    "        delta_t = torch.zeros([self.trajectory_length, self.simulations])\n",
    "        # calculate last delta term\n",
    "        delta_t[self.trajectory_length-1,:] = trajectories_reward_tensor[self.trajectory_length-1,:] \\\n",
    "                                                         + self.alpha*logliklihood_tensor[self.trajectory_length-1,:]\n",
    "        # calculate last advantage value\n",
    "        advantage[self.trajectory_length-1,:] = delta_t[self.trajectory_length-1,:]\n",
    "        # compute other delta values\n",
    "        for time in reversed(range(0, self.trajectory_length-1)):\n",
    "            for simulation in range(self.simulations):\n",
    "                delta_t[time,simulation] = trajectories_reward_tensor[time, simulation] + self.alpha * logliklihood_tensor[time,simulation] \\\n",
    "                                    - self.value_function(trajectories_state_tensor[:,time,simulation]) \\\n",
    "                                    + self.discount * self.value_function(trajectories_state_tensor[:,time+1,simulation]) \n",
    "                advantage[time,simulation] = delta_t[time,simulation] + self.discount * self.bv_tradeoff * advantage[time+1,simulation]\n",
    "        \n",
    "        # detach cumulative reward from computation graph\n",
    "        advantage = advantage.detach()\n",
    "        \n",
    "        # return everything\n",
    "        return advantage\n",
    "\n",
    "    def forward(self, model_liklihood, trajectories_state_tensor, trajectories_action_tensor, \\\n",
    "                trajectories_reward_tensor, value_function = None):\n",
    "        \"\"\" CALCULATE LOG LIKLIHOOD OF TRAJECTORIES \"\"\"\n",
    "        # initialize tensor for log liklihood stuff\n",
    "        logliklihood_tensor = torch.zeros([self.trajectory_length, self.simulations])\n",
    "        # initialize tensors for training a value function\n",
    "        cumulative_reward = torch.zeros([self.trajectory_length+1, self.simulations])\n",
    "        sampled_values = torch.zeros([self.trajectory_length * self.simulations])\n",
    "        sampled_states = torch.zeros([len(trajectories_state_tensor[:,0,0]), self.trajectory_length * self.simulations])\n",
    "        # append extra value to account for the end of the trajectory\n",
    "        cumulative_reward[self.trajectory_length,:] = trajectories_reward_tensor[self.trajectory_length-1,:] \\\n",
    "                                                         + self.alpha*logliklihood_tensor[self.trajectory_length-1,:]\n",
    "        # generate tensor for log liklihood and empirical value function samples \n",
    "        for time in reversed(range(self.trajectory_length)):\n",
    "            for simulation in range(self.simulations):\n",
    "                # logliklihood [simulation #, value, time step]\n",
    "                logliklihood_tensor[time,simulation] = model_liklihood(trajectories_state_tensor[:,time,simulation],\\\n",
    "                                                                       trajectories_action_tensor[time,simulation])\n",
    "            # cumulative reward\n",
    "            cumulative_reward[time,:] = trajectories_reward_tensor[time, :] + self.alpha * logliklihood_tensor[time,:] \\\n",
    "                                        + cumulative_reward[time+1,:]\n",
    "            # value function info\n",
    "            sampled_values[time*simulations:(time+1)*simulations] = cumulative_reward[time,:]\n",
    "            sampled_states[:,time*simulations:(time+1)*simulations] = trajectories_state_tensor[:,time,:]\n",
    "        \n",
    "        \"\"\" TRAIN VALUE FUNCTION \"\"\"\n",
    "        if value_function == None:\n",
    "            value_function = self.generate_value_function(sampled_values, sampled_states.transpose(0, 1))\n",
    "        \n",
    "        \"\"\" CALCULATE ADVANTAGE REGULARIZED BY ENTROPY \"\"\"\n",
    "        A_hat = self.Advantage_estimator(logliklihood_tensor, trajectories_state_tensor, trajectories_action_tensor, \\\n",
    "                                         trajectories_reward_tensor, value_function)\n",
    "        \n",
    "        \"\"\" CALCULATE POLICY GRADIENT OBJECTIVE \"\"\"\n",
    "        # initialize expectation tensor\n",
    "        expectation = 0\n",
    "        \n",
    "        # calculate instance of expectation for timestep then calc sample mean\n",
    "        for time in range(self.trajectory_length):\n",
    "            expectation += torch.dot(A_hat[time,:], logliklihood_tensor[time,:])/self.simulations    \n",
    "        \n",
    "        # sum accross time\n",
    "        expectation = -1 * torch.sum(expectation)/self.trajectory_length\n",
    "\n",
    "        \"\"\" RETURN \"\"\"\n",
    "        return expectation, value_function\n",
    "        "
   ]
  },
  {
   "cell_type": "markdown",
   "metadata": {},
   "source": [
    "# Now all we have to do is run it!\n",
    "Below I have set the grid that we will be using, as well as the start state and the number of iterations.  "
   ]
  },
  {
   "cell_type": "code",
   "execution_count": 420,
   "metadata": {},
   "outputs": [
    {
     "name": "stdout",
     "output_type": "stream",
     "text": [
      "tensor([0., 5.]) tensor(100000.) tensor(1.): tensor(1536094.1250, grad_fn=<DivBackward0>), ends in state: tensor([0., 5.])\r"
     ]
    }
   ],
   "source": [
    "pre_determined_grid = [[-1,   -1,  -1,   -10,   -1, 10**5],\n",
    "                       [-100, -1,  -10,  -1,    -10,  -10],\n",
    "                       [-100, -1,  -100, -10,   -10,  -10],\n",
    "                       [-1,   -1,  -100, -100,  -10,   -1],\n",
    "                       [-10,  -1,  -100, -100,  -100,  -1],\n",
    "                       [-1,   -1,  -100, -100,  -100,  -100]]\n",
    "\n",
    "# hyper parameters\n",
    "iterations = 500\n",
    "Time = 50\n",
    "simulations = 10\n",
    "discount = 0.99\n",
    "bv_tradeoff = 0.99\n",
    "VF_freq = 100\n",
    "\n",
    "#initializations\n",
    "start_state = [5,0]\n",
    "policy_obj = POLICY(2, 5)\n",
    "policy = lambda state: policy_obj.sample(state)\n",
    "grid = GRID_WORLD(pre_determined_grid, start_state)\n",
    "policy, loss_per_iteration, cr_per_iteration = train_policy(iterations, grid, simulations, Time, discount, bv_tradeoff, 1, 1)"
   ]
  },
  {
   "cell_type": "markdown",
   "metadata": {},
   "source": [
    "## Now lets plot everything "
   ]
  },
  {
   "cell_type": "code",
   "execution_count": 421,
   "metadata": {},
   "outputs": [
    {
     "data": {
      "image/png": "[encoded data removed]",
      "text/plain": [
       "<Figure size 432x288 with 1 Axes>"
      ]
     },
     "metadata": {},
     "output_type": "display_data"
    }
   ],
   "source": [
    "import matplotlib.pyplot as plt\n",
    "plt.plot([i for i in range(iterations)], -1*loss_per_iteration.detach().numpy())\n",
    "plt.title('Loss Per Iteration')\n",
    "plt.ylabel('Loss')\n",
    "plt.xlabel('Iteration')\n",
    "plt.show()"
   ]
  },
  {
   "cell_type": "code",
   "execution_count": 422,
   "metadata": {},
   "outputs": [
    {
     "data": {
      "image/png": "[encoded data removed]",
      "text/plain": [
       "<Figure size 432x288 with 1 Axes>"
      ]
     },
     "metadata": {},
     "output_type": "display_data"
    }
   ],
   "source": [
    "plt.plot([i for i in range(iterations)], cr_per_iteration.numpy())\n",
    "plt.title('Cumulative Reward Per Iteration')\n",
    "plt.ylabel('Cumulative Reward')\n",
    "plt.xlabel('Iteration')\n",
    "plt.show()"
   ]
  },
  {
   "cell_type": "markdown",
   "metadata": {},
   "source": [
    "## It looks like everything has converged, but lets look a trajectory to see if we are actually close"
   ]
  },
  {
   "cell_type": "code",
   "execution_count": 423,
   "metadata": {},
   "outputs": [
    {
     "name": "stdout",
     "output_type": "stream",
     "text": [
      "tensor([5., 0.]) tensor(-1.) tensor(4.)\n",
      "tensor([5., 0.]) tensor(-1.) tensor(1.)\n",
      "tensor([4., 0.]) tensor(-10.) tensor(1.)\n",
      "tensor([3., 0.]) tensor(-1.) tensor(0.)\n",
      "tensor([3., 0.]) tensor(-1.) tensor(3.)\n",
      "tensor([3., 1.]) tensor(-1.) tensor(1.)\n",
      "tensor([2., 1.]) tensor(-1.) tensor(1.)\n",
      "tensor([1., 1.]) tensor(-1.) tensor(0.)\n",
      "tensor([1., 1.]) tensor(-1.) tensor(1.)\n",
      "tensor([0., 1.]) tensor(-1.) tensor(3.)\n",
      "tensor([0., 2.]) tensor(-1.) tensor(2.)\n",
      "tensor([1., 2.]) tensor(-10.) tensor(3.)\n",
      "tensor([1., 3.]) tensor(-1.) tensor(3.)\n",
      "tensor([1., 4.]) tensor(-10.) tensor(3.)\n",
      "tensor([1., 5.]) tensor(-10.) tensor(3.)\n",
      "tensor([1., 5.]) tensor(-10.) tensor(1.)\n",
      "tensor([0., 5.]) tensor(100000.) tensor(1.)\n",
      "tensor([0., 5.]) tensor(100000.) tensor(1.)\n",
      "tensor([0., 5.]) tensor(100000.) tensor(3.)\n",
      "tensor([0., 5.]) tensor(100000.) tensor(3.)\n",
      "tensor([0., 5.]) tensor(100000.) tensor(3.)\n",
      "tensor([0., 5.]) tensor(100000.) tensor(1.)\n",
      "tensor([0., 5.]) tensor(100000.) tensor(3.)\n",
      "tensor([0., 5.]) tensor(100000.) tensor(3.)\n",
      "tensor([0., 5.]) tensor(100000.) tensor(1.)\n"
     ]
    }
   ],
   "source": [
    "T = 50\n",
    "samples = 1\n",
    "state_tensor, action_tensor, reward_tensor = grid.simulate_trajectory(T, samples, policy)\n",
    "for time in range(25):\n",
    "    print(state_tensor[:,time,0], reward_tensor[time,0], action_tensor[time,0])"
   ]
  },
  {
   "cell_type": "markdown",
   "metadata": {},
   "source": [
    "## We can also look at what actions are sampled at all positions to see if they seem reasonable"
   ]
  },
  {
   "cell_type": "code",
   "execution_count": 428,
   "metadata": {},
   "outputs": [
    {
     "name": "stdout",
     "output_type": "stream",
     "text": [
      "[1, 3, 1, 3, 1, 1]\n",
      "[2, 3, 2, 3, 1, 3]\n",
      "[1, 1, 1, 0, 1, 1]\n",
      "[0, 3, 1, 1, 3, 3]\n",
      "[1, 1, 1, 1, 3, 1]\n",
      "[1, 1, 3, 1, 1, 1]\n"
     ]
    }
   ],
   "source": [
    "for x in range(len(pre_determined_grid[0])):\n",
    "    row = []\n",
    "    for y in range(len(pre_determined_grid)):\n",
    "        row.append(int(policy([x, y])))\n",
    "    print(row)"
   ]
  },
  {
   "cell_type": "markdown",
   "metadata": {},
   "source": [
    "## Thats it for the GAE (for now)!\n",
    "Now we have implemented a simple version of the value function defined in the generalized advantage estimation, albeit somewhat niavely. There does not really seem to be that much advantage in using this extra variance reduction technique, as it drastically slows down training time due at each iteration. The loss function over time did look substantially smoother throughout the course of training, and the solution found was definitly more optimal then the one found in the original codebase, however the training time was still a limitation. Whats more, I was forced to include a somewhat hacky work around to the GAE training which when applied at every iteration actually led to extremely poor results. This might be remedied by using a decaying exponential average, or using trust region updates, but the efficieny issue still remains. Next time we will impliment a trust region update for the method, as well as conjugate gradient update that should substantially improve training time for the value function iterations."
   ]
  }
 ],
 "metadata": {
  "kernelspec": {
   "display_name": "Python 3",
   "language": "python",
   "name": "python3"
  },
  "language_info": {
   "codemirror_mode": {
    "name": "ipython",
    "version": 3
   },
   "file_extension": ".py",
   "mimetype": "text/x-python",
   "name": "python",
   "nbconvert_exporter": "python",
   "pygments_lexer": "ipython3",
   "version": "3.6.5"
  }
 },
 "nbformat": 4,
 "nbformat_minor": 2
}
